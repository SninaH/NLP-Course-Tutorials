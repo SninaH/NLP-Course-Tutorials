{
  "cells": [
    {
      "cell_type": "markdown",
      "metadata": {
        "id": "pYagNo7w0KR6"
      },
      "source": [
        "# Google Colab - Multiple neural network analysis\n",
        "\n",
        "<sup>This notebook is a part of Natural Language Processing class at the University of Ljubljana, Faculty for computer and information science. Please contact [slavko.zitnik@fri.uni-lj.si](mailto:slavko.zitnik@fri.uni-lj.si) for any comments.</sub>\n",
        "\n",
        "## Google Colab specifics\n",
        "\n",
        "Before running this notebook you should select GPU-accelerated environment.\n",
        "\n",
        "### Libraries installation\n",
        "\n",
        "Some of the libraries are already available but you should manually install them:"
      ]
    },
    {
      "cell_type": "code",
      "execution_count": 1,
      "metadata": {
        "colab": {
          "base_uri": "https://localhost:8080/"
        },
        "id": "G96VrF880KR9",
        "outputId": "4f9bd25f-d37b-4cb1-c013-6ba32d43e4c9"
      },
      "outputs": [
        {
          "output_type": "stream",
          "name": "stdout",
          "text": [
            "Requirement already satisfied: tensorflow-gpu==2.4.1 in /usr/local/lib/python3.7/dist-packages (2.4.1)\n",
            "Requirement already satisfied: keras==2.4.3 in /usr/local/lib/python3.7/dist-packages (2.4.3)\n",
            "Requirement already satisfied: pandas==1.1.5 in /usr/local/lib/python3.7/dist-packages (1.1.5)\n",
            "Requirement already satisfied: numpy==1.19.2 in /usr/local/lib/python3.7/dist-packages (1.19.2)\n",
            "Requirement already satisfied: opt-einsum~=3.3.0 in /usr/local/lib/python3.7/dist-packages (from tensorflow-gpu==2.4.1) (3.3.0)\n",
            "Requirement already satisfied: keras-preprocessing~=1.1.2 in /usr/local/lib/python3.7/dist-packages (from tensorflow-gpu==2.4.1) (1.1.2)\n",
            "Requirement already satisfied: flatbuffers~=1.12.0 in /usr/local/lib/python3.7/dist-packages (from tensorflow-gpu==2.4.1) (1.12)\n",
            "Requirement already satisfied: tensorflow-estimator<2.5.0,>=2.4.0 in /usr/local/lib/python3.7/dist-packages (from tensorflow-gpu==2.4.1) (2.4.0)\n",
            "Requirement already satisfied: gast==0.3.3 in /usr/local/lib/python3.7/dist-packages (from tensorflow-gpu==2.4.1) (0.3.3)\n",
            "Requirement already satisfied: protobuf>=3.9.2 in /usr/local/lib/python3.7/dist-packages (from tensorflow-gpu==2.4.1) (3.17.3)\n",
            "Requirement already satisfied: astunparse~=1.6.3 in /usr/local/lib/python3.7/dist-packages (from tensorflow-gpu==2.4.1) (1.6.3)\n",
            "Requirement already satisfied: absl-py~=0.10 in /usr/local/lib/python3.7/dist-packages (from tensorflow-gpu==2.4.1) (0.15.0)\n",
            "Requirement already satisfied: six~=1.15.0 in /usr/local/lib/python3.7/dist-packages (from tensorflow-gpu==2.4.1) (1.15.0)\n",
            "Requirement already satisfied: wrapt~=1.12.1 in /usr/local/lib/python3.7/dist-packages (from tensorflow-gpu==2.4.1) (1.12.1)\n",
            "Requirement already satisfied: termcolor~=1.1.0 in /usr/local/lib/python3.7/dist-packages (from tensorflow-gpu==2.4.1) (1.1.0)\n",
            "Requirement already satisfied: google-pasta~=0.2 in /usr/local/lib/python3.7/dist-packages (from tensorflow-gpu==2.4.1) (0.2.0)\n",
            "Requirement already satisfied: h5py~=2.10.0 in /usr/local/lib/python3.7/dist-packages (from tensorflow-gpu==2.4.1) (2.10.0)\n",
            "Requirement already satisfied: wheel~=0.35 in /usr/local/lib/python3.7/dist-packages (from tensorflow-gpu==2.4.1) (0.37.1)\n",
            "Requirement already satisfied: tensorboard~=2.4 in /usr/local/lib/python3.7/dist-packages (from tensorflow-gpu==2.4.1) (2.8.0)\n",
            "Requirement already satisfied: grpcio~=1.32.0 in /usr/local/lib/python3.7/dist-packages (from tensorflow-gpu==2.4.1) (1.32.0)\n",
            "Requirement already satisfied: typing-extensions~=3.7.4 in /usr/local/lib/python3.7/dist-packages (from tensorflow-gpu==2.4.1) (3.7.4.3)\n",
            "Requirement already satisfied: pyyaml in /usr/local/lib/python3.7/dist-packages (from keras==2.4.3) (3.13)\n",
            "Requirement already satisfied: scipy>=0.14 in /usr/local/lib/python3.7/dist-packages (from keras==2.4.3) (1.4.1)\n",
            "Requirement already satisfied: python-dateutil>=2.7.3 in /usr/local/lib/python3.7/dist-packages (from pandas==1.1.5) (2.8.2)\n",
            "Requirement already satisfied: pytz>=2017.2 in /usr/local/lib/python3.7/dist-packages (from pandas==1.1.5) (2018.9)\n",
            "Requirement already satisfied: tensorboard-data-server<0.7.0,>=0.6.0 in /usr/local/lib/python3.7/dist-packages (from tensorboard~=2.4->tensorflow-gpu==2.4.1) (0.6.1)\n",
            "Requirement already satisfied: requests<3,>=2.21.0 in /usr/local/lib/python3.7/dist-packages (from tensorboard~=2.4->tensorflow-gpu==2.4.1) (2.23.0)\n",
            "Requirement already satisfied: google-auth-oauthlib<0.5,>=0.4.1 in /usr/local/lib/python3.7/dist-packages (from tensorboard~=2.4->tensorflow-gpu==2.4.1) (0.4.6)\n",
            "Requirement already satisfied: google-auth<3,>=1.6.3 in /usr/local/lib/python3.7/dist-packages (from tensorboard~=2.4->tensorflow-gpu==2.4.1) (1.35.0)\n",
            "Requirement already satisfied: tensorboard-plugin-wit>=1.6.0 in /usr/local/lib/python3.7/dist-packages (from tensorboard~=2.4->tensorflow-gpu==2.4.1) (1.8.1)\n",
            "Requirement already satisfied: werkzeug>=0.11.15 in /usr/local/lib/python3.7/dist-packages (from tensorboard~=2.4->tensorflow-gpu==2.4.1) (1.0.1)\n",
            "Requirement already satisfied: markdown>=2.6.8 in /usr/local/lib/python3.7/dist-packages (from tensorboard~=2.4->tensorflow-gpu==2.4.1) (3.3.6)\n",
            "Requirement already satisfied: setuptools>=41.0.0 in /usr/local/lib/python3.7/dist-packages (from tensorboard~=2.4->tensorflow-gpu==2.4.1) (57.4.0)\n",
            "Requirement already satisfied: pyasn1-modules>=0.2.1 in /usr/local/lib/python3.7/dist-packages (from google-auth<3,>=1.6.3->tensorboard~=2.4->tensorflow-gpu==2.4.1) (0.2.8)\n",
            "Requirement already satisfied: rsa<5,>=3.1.4 in /usr/local/lib/python3.7/dist-packages (from google-auth<3,>=1.6.3->tensorboard~=2.4->tensorflow-gpu==2.4.1) (4.8)\n",
            "Requirement already satisfied: cachetools<5.0,>=2.0.0 in /usr/local/lib/python3.7/dist-packages (from google-auth<3,>=1.6.3->tensorboard~=2.4->tensorflow-gpu==2.4.1) (4.2.4)\n",
            "Requirement already satisfied: requests-oauthlib>=0.7.0 in /usr/local/lib/python3.7/dist-packages (from google-auth-oauthlib<0.5,>=0.4.1->tensorboard~=2.4->tensorflow-gpu==2.4.1) (1.3.1)\n",
            "Requirement already satisfied: importlib-metadata>=4.4 in /usr/local/lib/python3.7/dist-packages (from markdown>=2.6.8->tensorboard~=2.4->tensorflow-gpu==2.4.1) (4.11.3)\n",
            "Requirement already satisfied: zipp>=0.5 in /usr/local/lib/python3.7/dist-packages (from importlib-metadata>=4.4->markdown>=2.6.8->tensorboard~=2.4->tensorflow-gpu==2.4.1) (3.7.0)\n",
            "Requirement already satisfied: pyasn1<0.5.0,>=0.4.6 in /usr/local/lib/python3.7/dist-packages (from pyasn1-modules>=0.2.1->google-auth<3,>=1.6.3->tensorboard~=2.4->tensorflow-gpu==2.4.1) (0.4.8)\n",
            "Requirement already satisfied: idna<3,>=2.5 in /usr/local/lib/python3.7/dist-packages (from requests<3,>=2.21.0->tensorboard~=2.4->tensorflow-gpu==2.4.1) (2.10)\n",
            "Requirement already satisfied: urllib3!=1.25.0,!=1.25.1,<1.26,>=1.21.1 in /usr/local/lib/python3.7/dist-packages (from requests<3,>=2.21.0->tensorboard~=2.4->tensorflow-gpu==2.4.1) (1.24.3)\n",
            "Requirement already satisfied: certifi>=2017.4.17 in /usr/local/lib/python3.7/dist-packages (from requests<3,>=2.21.0->tensorboard~=2.4->tensorflow-gpu==2.4.1) (2021.10.8)\n",
            "Requirement already satisfied: chardet<4,>=3.0.2 in /usr/local/lib/python3.7/dist-packages (from requests<3,>=2.21.0->tensorboard~=2.4->tensorflow-gpu==2.4.1) (3.0.4)\n",
            "Requirement already satisfied: oauthlib>=3.0.0 in /usr/local/lib/python3.7/dist-packages (from requests-oauthlib>=0.7.0->google-auth-oauthlib<0.5,>=0.4.1->tensorboard~=2.4->tensorflow-gpu==2.4.1) (3.2.0)\n"
          ]
        }
      ],
      "source": [
        "!pip install tensorflow-gpu==2.4.1 keras==2.4.3 pandas==1.1.5 numpy==1.19.2"
      ]
    },
    {
      "cell_type": "markdown",
      "metadata": {
        "id": "4JdpSdBG0KR-"
      },
      "source": [
        "### I/O device registering\n",
        "\n",
        "Current working directory is set to `/content` by default. You can also give access to your Google Drive to save models/results/... there."
      ]
    },
    {
      "cell_type": "code",
      "execution_count": 2,
      "metadata": {
        "colab": {
          "base_uri": "https://localhost:8080/"
        },
        "id": "xHL6AMfe0KR_",
        "outputId": "2a1960ef-88ea-4eb9-b560-ba6e2592c2af"
      },
      "outputs": [
        {
          "output_type": "stream",
          "name": "stdout",
          "text": [
            "Mounted at /content/drive/\n"
          ]
        }
      ],
      "source": [
        "from google.colab import drive\n",
        "drive.mount(\"/content/drive/\")\n",
        "\n",
        "# Access your Drive data using folder '/content/drive/MyDrive'"
      ]
    },
    {
      "cell_type": "markdown",
      "metadata": {
        "id": "f8BWktGo0KR_"
      },
      "source": [
        "### GPU device selection review\n",
        "\n",
        "You can directly use system command `nvidia-smi` or use Python library (e.g. Tensorflow or PyTorch) to check this."
      ]
    },
    {
      "cell_type": "code",
      "execution_count": 3,
      "metadata": {
        "colab": {
          "base_uri": "https://localhost:8080/"
        },
        "id": "NFU6m1E90KR_",
        "outputId": "fe998061-d258-491d-eec5-6e6519c4bbd7"
      },
      "outputs": [
        {
          "output_type": "stream",
          "name": "stdout",
          "text": [
            "Mon Apr  4 14:18:22 2022       \n",
            "+-----------------------------------------------------------------------------+\n",
            "| NVIDIA-SMI 460.32.03    Driver Version: 460.32.03    CUDA Version: 11.2     |\n",
            "|-------------------------------+----------------------+----------------------+\n",
            "| GPU  Name        Persistence-M| Bus-Id        Disp.A | Volatile Uncorr. ECC |\n",
            "| Fan  Temp  Perf  Pwr:Usage/Cap|         Memory-Usage | GPU-Util  Compute M. |\n",
            "|                               |                      |               MIG M. |\n",
            "|===============================+======================+======================|\n",
            "|   0  Tesla K80           Off  | 00000000:00:04.0 Off |                    0 |\n",
            "| N/A   32C    P8    27W / 149W |      0MiB / 11441MiB |      0%      Default |\n",
            "|                               |                      |                  N/A |\n",
            "+-------------------------------+----------------------+----------------------+\n",
            "                                                                               \n",
            "+-----------------------------------------------------------------------------+\n",
            "| Processes:                                                                  |\n",
            "|  GPU   GI   CI        PID   Type   Process name                  GPU Memory |\n",
            "|        ID   ID                                                   Usage      |\n",
            "|=============================================================================|\n",
            "|  No running processes found                                                 |\n",
            "+-----------------------------------------------------------------------------+\n"
          ]
        }
      ],
      "source": [
        "!nvidia-smi"
      ]
    },
    {
      "cell_type": "code",
      "execution_count": 4,
      "metadata": {
        "colab": {
          "base_uri": "https://localhost:8080/"
        },
        "id": "WLxMk7GN0KR_",
        "outputId": "e036ea75-b827-4cb5-8b7e-605004a03730"
      },
      "outputs": [
        {
          "output_type": "stream",
          "name": "stdout",
          "text": [
            "Tensorflow version: 2.4.1\n",
            "The system contains '1' Physical GPUs and '1' Logical GPUs\n"
          ]
        }
      ],
      "source": [
        "import tensorflow as tf\n",
        "import os\n",
        "print(f\"Tensorflow version: {tf.__version__}\")\n",
        "\n",
        "# Restrict TensorFlow to only allocate 4GBs of memory on the first GPU\n",
        "gpus = tf.config.experimental.list_physical_devices('GPU')\n",
        "if gpus:\n",
        "  try:\n",
        "    tf.config.experimental.set_virtual_device_configuration(\n",
        "        gpus[0],\n",
        "        [tf.config.experimental.VirtualDeviceConfiguration(memory_limit=4096)])\n",
        "    logical_gpus = tf.config.experimental.list_logical_devices('GPU')\n",
        "    print(f\"The system contains '{len(gpus)}' Physical GPUs and '{len(logical_gpus)}' Logical GPUs\")\n",
        "  except RuntimeError as e:\n",
        "    print(e)\n",
        "else:\n",
        "    print(f\"Your system does not contain a GPU that could be used by Tensorflow!\")"
      ]
    },
    {
      "cell_type": "markdown",
      "metadata": {
        "id": "OTQJ_nf70KSA"
      },
      "source": [
        "## IMDB sentiment analysis example\n",
        "\n",
        "First we download the IMDB dataset. We present each word with a specific index from a vocabulary of 10000 words."
      ]
    },
    {
      "cell_type": "code",
      "execution_count": 5,
      "metadata": {
        "colab": {
          "base_uri": "https://localhost:8080/"
        },
        "id": "CnuPvw080KSA",
        "outputId": "e835202c-e6c1-4982-ffc5-2792c121f39a"
      },
      "outputs": [
        {
          "output_type": "stream",
          "name": "stdout",
          "text": [
            "Downloading data from https://storage.googleapis.com/tensorflow/tf-keras-datasets/imdb.npz\n",
            "17465344/17464789 [==============================] - 0s 0us/step\n"
          ]
        },
        {
          "output_type": "stream",
          "name": "stderr",
          "text": [
            "<string>:6: VisibleDeprecationWarning: Creating an ndarray from ragged nested sequences (which is a list-or-tuple of lists-or-tuples-or ndarrays with different lengths or shapes) is deprecated. If you meant to do this, you must specify 'dtype=object' when creating the ndarray\n",
            "/usr/local/lib/python3.7/dist-packages/tensorflow/python/keras/datasets/imdb.py:159: VisibleDeprecationWarning: Creating an ndarray from ragged nested sequences (which is a list-or-tuple of lists-or-tuples-or ndarrays with different lengths or shapes) is deprecated. If you meant to do this, you must specify 'dtype=object' when creating the ndarray\n",
            "  x_train, y_train = np.array(xs[:idx]), np.array(labels[:idx])\n",
            "/usr/local/lib/python3.7/dist-packages/tensorflow/python/keras/datasets/imdb.py:160: VisibleDeprecationWarning: Creating an ndarray from ragged nested sequences (which is a list-or-tuple of lists-or-tuples-or ndarrays with different lengths or shapes) is deprecated. If you meant to do this, you must specify 'dtype=object' when creating the ndarray\n",
            "  x_test, y_test = np.array(xs[idx:]), np.array(labels[idx:])\n"
          ]
        },
        {
          "output_type": "stream",
          "name": "stdout",
          "text": [
            "Number of reviews: 25000.\n",
            "First review: \n",
            "\t[1, 14, 22, 16, 43, 530, 973, 1622, 1385, 65, 458, 4468, 66, 3941, 4, 173, 36, 256, 5, 25, 100, 43, 838, 112, 50, 670, 2, 9, 35, 480, 284, 5, 150, 4, 172, 112, 167, 2, 336, 385, 39, 4, 172, 4536, 1111, 17, 546, 38, 13, 447, 4, 192, 50, 16, 6, 147, 2025, 19, 14, 22, 4, 1920, 4613, 469, 4, 22, 71, 87, 12, 16, 43, 530, 38, 76, 15, 13, 1247, 4, 22, 17, 515, 17, 12, 16, 626, 18, 2, 5, 62, 386, 12, 8, 316, 8, 106, 5, 4, 2223, 5244, 16, 480, 66, 3785, 33, 4, 130, 12, 16, 38, 619, 5, 25, 124, 51, 36, 135, 48, 25, 1415, 33, 6, 22, 12, 215, 28, 77, 52, 5, 14, 407, 16, 82, 2, 8, 4, 107, 117, 5952, 15, 256, 4, 2, 7, 3766, 5, 723, 36, 71, 43, 530, 476, 26, 400, 317, 46, 7, 4, 2, 1029, 13, 104, 88, 4, 381, 15, 297, 98, 32, 2071, 56, 26, 141, 6, 194, 7486, 18, 4, 226, 22, 21, 134, 476, 26, 480, 5, 144, 30, 5535, 18, 51, 36, 28, 224, 92, 25, 104, 4, 226, 65, 16, 38, 1334, 88, 12, 16, 283, 5, 16, 4472, 113, 103, 32, 15, 16, 5345, 19, 178, 32].\n",
            "First label: 1.\n",
            "Length of first review before padding: 218.\n",
            "\n",
            "After padding:\n",
            "First review: \n",
            "\t[   0    0    0    0    0    0    0    0    0    0    0    0    0    0\n",
            "    0    0    0    0    0    0    0    0    0    0    0    0    0    0\n",
            "    0    0    0    0    0    0    0    0    0    0    0    0    0    0\n",
            "    0    0    0    0    0    0    0    0    0    0    0    0    0    0\n",
            "    0    0    0    0    0    0    0    0    0    0    0    0    0    0\n",
            "    0    0    0    0    0    0    0    0    0    0    0    0    0    0\n",
            "    0    0    0    0    0    0    0    0    0    0    0    0    0    0\n",
            "    0    0    0    0    0    0    0    0    0    0    0    0    0    0\n",
            "    0    0    0    0    0    0    0    0    0    0    0    0    0    0\n",
            "    0    0    0    0    0    0    0    0    0    0    0    0    0    0\n",
            "    0    0    0    0    0    0    0    0    0    0    0    0    0    0\n",
            "    0    0    0    0    0    0    0    0    0    0    0    0    0    0\n",
            "    0    0    0    0    0    0    0    0    0    0    0    0    0    0\n",
            "    0    0    0    0    0    0    0    0    0    0    0    0    0    0\n",
            "    0    0    0    0    0    0    0    0    0    0    0    0    0    0\n",
            "    0    0    0    0    0    0    0    0    0    0    0    0    0    0\n",
            "    0    0    0    0    0    0    0    0    0    0    0    0    0    0\n",
            "    0    0    0    0    0    0    0    0    0    0    0    0    0    0\n",
            "    0    0    0    0    0    0    0    0    0    0    0    0    0    0\n",
            "    0    0    0    0    0    0    0    0    0    0    0    0    0    0\n",
            "    0    0    1   14   22   16   43  530  973 1622 1385   65  458 4468\n",
            "   66 3941    4  173   36  256    5   25  100   43  838  112   50  670\n",
            "    2    9   35  480  284    5  150    4  172  112  167    2  336  385\n",
            "   39    4  172 4536 1111   17  546   38   13  447    4  192   50   16\n",
            "    6  147 2025   19   14   22    4 1920 4613  469    4   22   71   87\n",
            "   12   16   43  530   38   76   15   13 1247    4   22   17  515   17\n",
            "   12   16  626   18    2    5   62  386   12    8  316    8  106    5\n",
            "    4 2223 5244   16  480   66 3785   33    4  130   12   16   38  619\n",
            "    5   25  124   51   36  135   48   25 1415   33    6   22   12  215\n",
            "   28   77   52    5   14  407   16   82    2    8    4  107  117 5952\n",
            "   15  256    4    2    7 3766    5  723   36   71   43  530  476   26\n",
            "  400  317   46    7    4    2 1029   13  104   88    4  381   15  297\n",
            "   98   32 2071   56   26  141    6  194 7486   18    4  226   22   21\n",
            "  134  476   26  480    5  144   30 5535   18   51   36   28  224   92\n",
            "   25  104    4  226   65   16   38 1334   88   12   16  283    5   16\n",
            " 4472  113  103   32   15   16 5345   19  178   32].\n",
            "Length of first review after padding: 500.\n"
          ]
        }
      ],
      "source": [
        "import numpy as np\n",
        "from keras.datasets import imdb\n",
        "from keras.preprocessing import sequence\n",
        "from keras.preprocessing.text import text_to_word_sequence\n",
        "\n",
        "# number of distinct words\n",
        "vocabulary_size = 10000\n",
        "\n",
        "# number of words per review\n",
        "max_review_length = 500\n",
        "\n",
        "# load Keras IMDB movie reviews dataset\n",
        "(X_train, y_train), (X_test, y_test) = imdb.load_data(num_words=vocabulary_size)\n",
        "\n",
        "print(f'Number of reviews: {len(X_train)}.')\n",
        "print(f'First review: \\n\\t{X_train[0]}.')\n",
        "print(f'First label: {y_train[0]}.')\n",
        "print(f'Length of first review before padding: {len(X_train[0])}.')\n",
        "\n",
        "# padding reviews\n",
        "X_train = sequence.pad_sequences(X_train, maxlen=max_review_length)\n",
        "X_test = sequence.pad_sequences(X_test, maxlen=max_review_length)\n",
        "print(f\"\\nAfter padding:\")\n",
        "print(f'First review: \\n\\t{X_train[0]}.')\n",
        "print(f'Length of first review after padding: {len(X_train[0])}.')"
      ]
    },
    {
      "cell_type": "markdown",
      "metadata": {
        "id": "RJo3CGLv0KSB"
      },
      "source": [
        "Mapping between real words and indexes:"
      ]
    },
    {
      "cell_type": "code",
      "execution_count": 6,
      "metadata": {
        "colab": {
          "base_uri": "https://localhost:8080/"
        },
        "id": "53a245kt0KSC",
        "outputId": "033164ba-277f-4e12-ff8b-7edb247d0e1c"
      },
      "outputs": [
        {
          "output_type": "stream",
          "name": "stdout",
          "text": [
            "Downloading data from https://storage.googleapis.com/tensorflow/tf-keras-datasets/imdb_word_index.json\n",
            "1646592/1641221 [==============================] - 0s 0us/step\n",
            "First review: \n",
            "\tText: please give this one a miss br br and the rest of the cast rendered terrible performances the show is flat flat flat br br i don't know how michael madison could have allowed this one on his plate he almost seemed to know this wasn't going to work out and his performance was quite so all you madison fans give this a miss\n",
            "\tLabel: NEGATIVE\n",
            "\n",
            "Last review: \n",
            "\tText: a good ol' boy film is almost required to have car chases a storyline that has a vague resemblance to plot and at least one very pretty country gal with short shorts and a low top the pretty gal is here dressed in designer but the redneck stop there jimmy dean is a natural as a but as a tough guy former sheriff he comes up way short big john is big but he isn't convincing with the bad part of his bug eyed jack is a hoot as always and bo hopkins has been playing this same part for decades ned beatty also does his part in a small role but there is no story it more like an episode of in the heat of the night than a feature film with easily predictable sentiment perhaps the most glaring problem with this movie is charlie daniels singing the theme you know the one it was made famous by jimmy dean\n",
            "\tLabel: NEGATIVE\n"
          ]
        }
      ],
      "source": [
        "# A dictionary mapping words to an integer index\n",
        "word_index = imdb.get_word_index()\n",
        "\n",
        "# The first indices are reserved, so we map the index for our use\n",
        "word_index = {k:(v+3) for k,v in word_index.items()}\n",
        "word_index[\"<PAD>\"] = 0\n",
        "word_index[\"<START>\"] = 1\n",
        "word_index[\"<UNK>\"] = 2  # unknown\n",
        "word_index[\"<UNUSED>\"] = 3\n",
        "reverse_word_index = dict([(value, key) for (key, value) in word_index.items()])\n",
        "\n",
        "# Decode review text\n",
        "def decode_review(text_ids, cls):\n",
        "    text = ' '.join([reverse_word_index.get(i, '?') for i in text_ids if i not in [0,1,2,3]])\n",
        "    label = 'POSITIVE' if cls == 1 else 'NEGATIVE'\n",
        "    return f\"\\tText: {text}\\n\\tLabel: {label}\"\n",
        "\n",
        "# First review\n",
        "print(f\"First review: \\n{decode_review(X_test[0], y_test[0])}\")\n",
        "# Last review\n",
        "print(f\"\\nLast review: \\n{decode_review(X_test[len(X_test)-1], y_test[len(X_test)-1])}\")"
      ]
    },
    {
      "cell_type": "markdown",
      "metadata": {
        "id": "04jDwdIp0KSC"
      },
      "source": [
        "Below we create multiple models and evaluate their performance:\n",
        "\n",
        "* **FFN**: Input to the models are word indices directly fed into a Dense layer.\n",
        "* **FFN with embeddings**: After creation of embedding vectors, the same architecture as in *FFN* is used.\n",
        "* **CNN**: Similar to the *FFN with embeddings* model with a convoluational and pooling layer immediatelly after embedding layer,\n",
        "* **RNN**: Simple RNN model with 100 hidden dimensions and prediction at the end.\n",
        "* **CNN+RNN**: A combination of *CNN* and *RNN* models above.\n",
        "\n",
        "The runtime for the below script should take about a half hour using Tesla V100 32GB GPU."
      ]
    },
    {
      "cell_type": "code",
      "execution_count": 7,
      "metadata": {
        "colab": {
          "base_uri": "https://localhost:8080/"
        },
        "id": "rVbZUPjD0KSC",
        "outputId": "2357b7b2-7f0c-49f7-eef6-165c284f3425"
      },
      "outputs": [
        {
          "output_type": "stream",
          "name": "stdout",
          "text": [
            "Epoch 1/20\n",
            "196/196 - 2s - loss: 173.4219 - accuracy: 0.5063\n",
            "Epoch 2/20\n",
            "196/196 - 0s - loss: 48.2277 - accuracy: 0.5871\n",
            "Epoch 3/20\n",
            "196/196 - 0s - loss: 17.9062 - accuracy: 0.6693\n",
            "Epoch 4/20\n",
            "196/196 - 0s - loss: 7.6559 - accuracy: 0.7348\n",
            "Epoch 5/20\n",
            "196/196 - 0s - loss: 3.9130 - accuracy: 0.7788\n",
            "Epoch 6/20\n",
            "196/196 - 0s - loss: 2.2605 - accuracy: 0.8118\n",
            "Epoch 7/20\n",
            "196/196 - 0s - loss: 1.4360 - accuracy: 0.8330\n",
            "Epoch 8/20\n",
            "196/196 - 0s - loss: 1.0266 - accuracy: 0.8502\n",
            "Epoch 9/20\n",
            "196/196 - 0s - loss: 0.8539 - accuracy: 0.8568\n",
            "Epoch 10/20\n",
            "196/196 - 0s - loss: 0.6752 - accuracy: 0.8730\n",
            "Epoch 11/20\n",
            "196/196 - 0s - loss: 0.5764 - accuracy: 0.8844\n",
            "Epoch 12/20\n",
            "196/196 - 0s - loss: 0.6295 - accuracy: 0.8798\n",
            "Epoch 13/20\n",
            "196/196 - 0s - loss: 0.5072 - accuracy: 0.8996\n",
            "Epoch 14/20\n",
            "196/196 - 0s - loss: 0.5846 - accuracy: 0.8917\n",
            "Epoch 15/20\n",
            "196/196 - 0s - loss: 0.5034 - accuracy: 0.9025\n",
            "Epoch 16/20\n",
            "196/196 - 0s - loss: 0.5289 - accuracy: 0.9020\n",
            "Epoch 17/20\n",
            "196/196 - 0s - loss: 0.5300 - accuracy: 0.9069\n",
            "Epoch 18/20\n",
            "196/196 - 0s - loss: 0.5852 - accuracy: 0.9063\n",
            "Epoch 19/20\n",
            "196/196 - 0s - loss: 0.5626 - accuracy: 0.9091\n",
            "Epoch 20/20\n",
            "196/196 - 0s - loss: 0.6738 - accuracy: 0.9043\n",
            "Epoch 1/20\n",
            "196/196 - 21s - loss: 0.4994 - accuracy: 0.7632\n",
            "Epoch 2/20\n",
            "196/196 - 19s - loss: 0.1034 - accuracy: 0.9658\n",
            "Epoch 3/20\n",
            "196/196 - 19s - loss: 0.0114 - accuracy: 0.9988\n",
            "Epoch 4/20\n",
            "196/196 - 19s - loss: 0.0015 - accuracy: 1.0000\n",
            "Epoch 5/20\n",
            "196/196 - 20s - loss: 5.5746e-04 - accuracy: 1.0000\n",
            "Epoch 6/20\n",
            "196/196 - 19s - loss: 3.0094e-04 - accuracy: 1.0000\n",
            "Epoch 7/20\n",
            "196/196 - 19s - loss: 1.8859e-04 - accuracy: 1.0000\n",
            "Epoch 8/20\n",
            "196/196 - 19s - loss: 1.2882e-04 - accuracy: 1.0000\n",
            "Epoch 9/20\n",
            "196/196 - 19s - loss: 9.1866e-05 - accuracy: 1.0000\n",
            "Epoch 10/20\n",
            "196/196 - 19s - loss: 6.7695e-05 - accuracy: 1.0000\n",
            "Epoch 11/20\n",
            "196/196 - 19s - loss: 5.1827e-05 - accuracy: 1.0000\n",
            "Epoch 12/20\n",
            "196/196 - 19s - loss: 4.0521e-05 - accuracy: 1.0000\n",
            "Epoch 13/20\n",
            "196/196 - 19s - loss: 3.2314e-05 - accuracy: 1.0000\n",
            "Epoch 14/20\n",
            "196/196 - 19s - loss: 2.6009e-05 - accuracy: 1.0000\n",
            "Epoch 15/20\n",
            "196/196 - 19s - loss: 2.1326e-05 - accuracy: 1.0000\n",
            "Epoch 16/20\n",
            "196/196 - 19s - loss: 1.7502e-05 - accuracy: 1.0000\n",
            "Epoch 17/20\n",
            "196/196 - 19s - loss: 1.4558e-05 - accuracy: 1.0000\n",
            "Epoch 18/20\n",
            "196/196 - 19s - loss: 1.2238e-05 - accuracy: 1.0000\n",
            "Epoch 19/20\n",
            "196/196 - 19s - loss: 1.0328e-05 - accuracy: 1.0000\n",
            "Epoch 20/20\n",
            "196/196 - 19s - loss: 8.7725e-06 - accuracy: 1.0000\n",
            "Epoch 1/20\n",
            "196/196 - 30s - loss: 0.4525 - accuracy: 0.7544\n",
            "Epoch 2/20\n",
            "196/196 - 22s - loss: 0.1852 - accuracy: 0.9268\n",
            "Epoch 3/20\n",
            "196/196 - 22s - loss: 0.0818 - accuracy: 0.9726\n",
            "Epoch 4/20\n",
            "196/196 - 22s - loss: 0.0238 - accuracy: 0.9935\n",
            "Epoch 5/20\n",
            "196/196 - 22s - loss: 0.0054 - accuracy: 0.9993\n",
            "Epoch 6/20\n",
            "196/196 - 22s - loss: 0.0012 - accuracy: 1.0000\n",
            "Epoch 7/20\n",
            "196/196 - 22s - loss: 5.5703e-04 - accuracy: 1.0000\n",
            "Epoch 8/20\n",
            "196/196 - 22s - loss: 1.6416e-04 - accuracy: 1.0000\n",
            "Epoch 9/20\n",
            "196/196 - 22s - loss: 1.0227e-04 - accuracy: 1.0000\n",
            "Epoch 10/20\n",
            "196/196 - 22s - loss: 7.0752e-05 - accuracy: 1.0000\n",
            "Epoch 11/20\n",
            "196/196 - 22s - loss: 5.1899e-05 - accuracy: 1.0000\n",
            "Epoch 12/20\n",
            "196/196 - 22s - loss: 3.9347e-05 - accuracy: 1.0000\n",
            "Epoch 13/20\n",
            "196/196 - 22s - loss: 3.0441e-05 - accuracy: 1.0000\n",
            "Epoch 14/20\n",
            "196/196 - 22s - loss: 2.4059e-05 - accuracy: 1.0000\n",
            "Epoch 15/20\n",
            "196/196 - 22s - loss: 1.9177e-05 - accuracy: 1.0000\n",
            "Epoch 16/20\n",
            "196/196 - 22s - loss: 1.5486e-05 - accuracy: 1.0000\n",
            "Epoch 17/20\n",
            "196/196 - 23s - loss: 1.2620e-05 - accuracy: 1.0000\n",
            "Epoch 18/20\n",
            "196/196 - 22s - loss: 1.0372e-05 - accuracy: 1.0000\n",
            "Epoch 19/20\n",
            "196/196 - 22s - loss: 8.5844e-06 - accuracy: 1.0000\n",
            "Epoch 20/20\n",
            "196/196 - 22s - loss: 7.1214e-06 - accuracy: 1.0000\n",
            "Epoch 1/3\n",
            "391/391 [==============================] - 226s 576ms/step - loss: 0.6759 - accuracy: 0.5594\n",
            "Epoch 2/3\n",
            "391/391 [==============================] - 227s 579ms/step - loss: 0.5749 - accuracy: 0.7072\n",
            "Epoch 3/3\n",
            "391/391 [==============================] - 226s 579ms/step - loss: 0.5214 - accuracy: 0.7350\n",
            "Epoch 1/10\n",
            "391/391 [==============================] - 129s 327ms/step - loss: 0.6317 - accuracy: 0.6042\n",
            "Epoch 2/10\n",
            "391/391 [==============================] - 127s 324ms/step - loss: 0.3815 - accuracy: 0.8303\n",
            "Epoch 3/10\n",
            "391/391 [==============================] - 126s 321ms/step - loss: 0.3060 - accuracy: 0.8729\n",
            "Epoch 4/10\n",
            "391/391 [==============================] - 131s 336ms/step - loss: 0.3032 - accuracy: 0.8691\n",
            "Epoch 5/10\n",
            "391/391 [==============================] - 131s 336ms/step - loss: 0.1195 - accuracy: 0.9589\n",
            "Epoch 6/10\n",
            "391/391 [==============================] - 132s 339ms/step - loss: 0.0626 - accuracy: 0.9805\n",
            "Epoch 7/10\n",
            "391/391 [==============================] - 133s 339ms/step - loss: 0.0334 - accuracy: 0.9903\n",
            "Epoch 8/10\n",
            "391/391 [==============================] - 133s 340ms/step - loss: 0.0397 - accuracy: 0.9864\n",
            "Epoch 9/10\n",
            "391/391 [==============================] - 134s 343ms/step - loss: 0.2421 - accuracy: 0.8994\n",
            "Epoch 10/10\n",
            "391/391 [==============================] - 135s 345ms/step - loss: 0.2735 - accuracy: 0.8841\n",
            "                  Model Accuracy\n",
            "0                  FFNN   50.86%\n",
            "1  FFNN with Embeddings   87.72%\n",
            "2                   CNN   87.98%\n",
            "3                   RNN   65.26%\n",
            "4               CNN+RNN   78.97%\n"
          ]
        }
      ],
      "source": [
        "from keras.models import Sequential\n",
        "from keras.layers import Dense, LSTM, SimpleRNN, Flatten\n",
        "from keras.layers.embeddings import Embedding\n",
        "from keras.layers.convolutional import Conv1D, MaxPooling1D\n",
        "import pandas as pd\n",
        "\n",
        "EMBEDDING_DIM = 256\n",
        "\n",
        "# Fully connected neural network\n",
        "model_ffn = Sequential()\n",
        "model_ffn.add(Dense(250, activation='relu',input_dim=max_review_length))\n",
        "model_ffn.add(Dense(1, activation='sigmoid'))\n",
        "model_ffn.compile(loss='binary_crossentropy', optimizer='adam', metrics=['accuracy'])\n",
        "history_ffn = model_ffn.fit(X_train, y_train, epochs=20, batch_size=128, verbose=2)\n",
        "scores_ffn = model_ffn.evaluate(X_test, y_test, verbose=0)\n",
        "\n",
        "# Fully connected neural network with embeddings\n",
        "model_ffne = Sequential()\n",
        "model_ffne.add(Embedding(vocabulary_size, EMBEDDING_DIM, input_length=max_review_length))\n",
        "model_ffne.add(Flatten())\n",
        "model_ffne.add(Dense(250, activation='relu'))\n",
        "model_ffne.add(Dense(1, activation='sigmoid'))\n",
        "model_ffne.compile(loss='binary_crossentropy', optimizer='adam', metrics=['accuracy'])\n",
        "history_ffne = model_ffne.fit(X_train, y_train, epochs=20, batch_size=128, verbose=2)\n",
        "scores_ffne = model_ffne.evaluate(X_test, y_test, verbose=0)\n",
        "\n",
        "# Convolutional neural network\n",
        "model_cnn = Sequential()\n",
        "model_cnn.add(Embedding(vocabulary_size, EMBEDDING_DIM, input_length=max_review_length))\n",
        "model_cnn.add(Conv1D(filters=200, kernel_size=3, padding='same', activation='relu'))\n",
        "model_cnn.add(MaxPooling1D(pool_size=2))\n",
        "model_cnn.add(Flatten())\n",
        "model_cnn.add(Dense(250, activation='relu'))\n",
        "model_cnn.add(Dense(1, activation='sigmoid'))\n",
        "model_cnn.compile(loss='binary_crossentropy', optimizer='adam', metrics=['accuracy'])\n",
        "history_cnn = model_cnn.fit(X_train, y_train, epochs=20, batch_size=128, verbose=2)\n",
        "scores_cnn = model_cnn.evaluate(X_test, y_test, verbose=0)\n",
        "\n",
        "# Recurrent Neural Network\n",
        "model_rnn = Sequential()\n",
        "model_rnn.add(Embedding(vocabulary_size, EMBEDDING_DIM, input_length=max_review_length))\n",
        "model_rnn.add(SimpleRNN(100))\n",
        "model_rnn.add(Dense(1, activation='sigmoid'))\n",
        "model_rnn.compile(loss='binary_crossentropy', optimizer='adam', metrics=['accuracy'])\n",
        "history_rnn = model_rnn.fit(X_train, y_train, epochs=3, batch_size=64)\n",
        "scores_rnn = model_rnn.evaluate(X_test, y_test, verbose=0)\n",
        "\n",
        "# Convolutional + Recurrent Neural Network\n",
        "model_cnn_rnn = Sequential()\n",
        "model_cnn_rnn.add(Embedding(vocabulary_size, EMBEDDING_DIM, input_length=max_review_length))\n",
        "model_cnn_rnn.add(Conv1D(filters=32, kernel_size=3, padding='same', activation='relu'))\n",
        "model_cnn_rnn.add(MaxPooling1D(pool_size=2))\n",
        "model_cnn_rnn.add(SimpleRNN(100))\n",
        "model_cnn_rnn.add(Dense(1, activation='sigmoid'))\n",
        "model_cnn_rnn.compile(loss='binary_crossentropy', optimizer='adam', metrics=['accuracy'])\n",
        "history_cnn_rnn = model_cnn_rnn.fit(X_train, y_train, epochs=10, batch_size=64)\n",
        "scores_cnn_rnn = model_cnn_rnn.evaluate(X_test, y_test, verbose=0)\n",
        "\n",
        "# Evaluation\n",
        "df = pd.DataFrame({'Model': ['FFNN', 'FFNN with Embeddings', 'CNN', 'RNN', 'CNN+RNN'],\n",
        "                   'Accuracy': [str(round(scores_ffn[1]*100, 2)) + '%',\n",
        "                                str(round(scores_ffne[1]*100, 2)) + '%',\n",
        "                                str(round(scores_cnn[1]*100, 2)) + '%',\n",
        "                                str(round(scores_rnn[1]*100, 2)) + '%',\n",
        "                                str(round(scores_cnn_rnn[1]*100, 2)) + '%']})\n",
        "print(df)"
      ]
    },
    {
      "cell_type": "markdown",
      "metadata": {
        "id": "pu5IEkTP0KSD"
      },
      "source": [
        "The code above should output something similar to the following:\n",
        "\n",
        "```\n",
        "                            Model Accuracy\n",
        "          0                  FFNN   50.79%\n",
        "          1  FFNN with Embeddings   87.64%\n",
        "          2                   CNN   87.55%\n",
        "          3                   RNN   61.14%\n",
        "          4               CNN+RNN   82.62%\n",
        "```\n",
        "\n",
        "Surprisingly, the fully connected neural network with embeddings and convolutional neural network outperform the remaining networks. FFN is a very simple network with a single 250 dimensional dense layer.\n",
        "\n",
        "CNNs can be robust to the position and orientation of learned objects in the image, while the same principle can be used on sequences, such as the one-dimensional sequence of words in a movie review. A simple RNN seems not to be very competitive but together with a CNN it achieves a decent performance.\n",
        "\n",
        "Now, let's test the models with some custom examples:"
      ]
    },
    {
      "cell_type": "code",
      "execution_count": 8,
      "metadata": {
        "colab": {
          "base_uri": "https://localhost:8080/"
        },
        "id": "NPL1oXTE0KSE",
        "outputId": "bccdb49a-f5b1-446b-f06f-a587700a20aa"
      },
      "outputs": [
        {
          "output_type": "stream",
          "name": "stdout",
          "text": [
            "WARNING:tensorflow:5 out of the last 5 calls to <function Model.make_predict_function.<locals>.predict_function at 0x7feb6619d8c0> triggered tf.function retracing. Tracing is expensive and the excessive number of tracings could be due to (1) creating @tf.function repeatedly in a loop, (2) passing tensors with different shapes, (3) passing Python objects instead of tensors. For (1), please define your @tf.function outside of the loop. For (2), @tf.function has experimental_relax_shapes=True option that relaxes argument shapes that can avoid unnecessary retracing. For (3), please refer to https://www.tensorflow.org/guide/function#controlling_retracing and https://www.tensorflow.org/api_docs/python/tf/function for  more details.\n",
            "                                              review FFN FFNE CNN RNN CNN+RNN\n",
            "0                                          I like it   -    +   +   +       +\n",
            "1                                     I dont like it   -    +   +   -       +\n",
            "2  After 30 min I still did not know what the mov...   -    +   +   +       +\n",
            "3  It is so good that I will never ever watch it ...   +    +   -   +       -\n",
            "4                      It is like the Titanic movie!   +    +   +   -       +\n",
            "5           That is the best movie I have ever seen.   -    +   +   +       +\n",
            "6          That is the worst movie I have ever seen.   -    -   -   -       -\n"
          ]
        }
      ],
      "source": [
        "def movie_sentiment(reviews, \n",
        "                    models=[model_ffn, model_ffne, model_cnn, model_rnn, model_cnn_rnn],\n",
        "                    titles=['FFN', 'FFNE', 'CNN', 'RNN', 'CNN+RNN']):\n",
        "    df = pd.DataFrame(columns=['review'] + titles)\n",
        "    i = 0\n",
        "    for review in reviews:\n",
        "        words = set(text_to_word_sequence(review))\n",
        "        words = [word_index[w] for w in words]\n",
        "        words = sequence.pad_sequences([words], maxlen=max_review_length)\n",
        "        df.loc[i] = [review] + titles\n",
        "        df.loc[i]['review'] = review\n",
        "        for j, model in enumerate(models):\n",
        "            proba = model.predict(words)\n",
        "            sentiment = '+' if proba>0.5 else '-'\n",
        "            df.loc[i][titles[j]] = sentiment\n",
        "        i = i + 1\n",
        "    return df\n",
        "    \n",
        "text1 = 'I like it'\n",
        "text2 = 'I dont like it'\n",
        "text3 = 'After 30 min I still did not know what the movie is about'\n",
        "text4 = 'It is so good that I will never ever watch it again. Boring experience.'\n",
        "text5 = \"It is like the Titanic movie!\"\n",
        "text6 = \"That is the best movie I have ever seen.\"\n",
        "text7 = \"That is the worst movie I have ever seen.\"\n",
        "print(movie_sentiment([text1, text2, text3, text4, text5, text6, text7]))"
      ]
    },
    {
      "cell_type": "markdown",
      "metadata": {
        "id": "hhMH-vxk0KSE"
      },
      "source": [
        "The test above should output something similar to the following:\n",
        "\n",
        "```\n",
        "                                              review FFN FFNE CNN RNN CNN+RNN  | EXPECTED\n",
        "0                                          I like it   -    +   +   +       -  |        + \n",
        "1                                     I dont like it   +    -   +   +       -  |        -\n",
        "2  After 30 min I still did not know what the mov...   +    +   +   -       -  |        -\n",
        "3  It is so good that I will never ever watch it ...   -    +   +   -       -  |        -\n",
        "4                      It is like the Titanic movie!   +    +   +   +       -  |        +\n",
        "5           That is the best movie I have ever seen.   +    +   +   +       -  |        +\n",
        "6          That is the worst movie I have ever seen.   -    -   -   -       -  |        -\n",
        "-----------------------------------------------------------------------------------------\n",
        "                                 CORRECT PREDICTIONS   4    5   4   6       4  |        7\n",
        "```\n",
        "\n",
        "It seems that RNN performed as the best on these few short examples.\n",
        "\n",
        "Try different architectures, models, hyperparameters (e.g. embedding dimensions), ... and you might improve the results."
      ]
    },
    {
      "cell_type": "markdown",
      "metadata": {
        "id": "MjPeh9_80KSF"
      },
      "source": [
        "## References\n",
        "\n",
        "* The example above follows the post by Michel Kana, PhD: [Sentiment analysis: a practical benchmark](https://towardsdatascience.com/sentiment-analysis-a-benchmark-903279cab44a)"
      ]
    }
  ],
  "metadata": {
    "kernelspec": {
      "display_name": "Python 3",
      "name": "python3"
    },
    "language_info": {
      "name": "python"
    },
    "colab": {
      "name": "Google Colab - IMDB_Multiple_NN_Example.ipynb",
      "provenance": [],
      "collapsed_sections": []
    },
    "accelerator": "GPU"
  },
  "nbformat": 4,
  "nbformat_minor": 0
}