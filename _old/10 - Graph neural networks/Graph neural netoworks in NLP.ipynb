{
 "cells": [
  {
   "cell_type": "markdown",
   "metadata": {},
   "source": [
    "# Graph-based neural network architectures in NLP\n",
    "<sup>This notebook is a part of Natural Language Processing class at the University of Ljubljana, Faculty for computer and information science. The content was prepared by Timotej Knez - [timotej.knez@fri.uni-lj.si](mailto:timotej.knez@fri.uni-lj.si). Please contact [slavko.zitnik@fri.uni-lj.si](mailto:slavko.zitnik@fri.uni-lj.si) for any comments.</sub>\n",
    "\n",
    "## Graph neural networks\n",
    "Graph neural networks are neural networks that accept graphs as inputs. Their goal is to encode information about the local structure of the graph around a node in a vector that represents each node. Depending on the task the output of a graph neural network can be embeddings for each node or a single vector for an entire graph."
   ]
  },
  {
   "cell_type": "markdown",
   "metadata": {},
   "source": [
    "### Graph\n",
    "A graph consists of nodes that are connected with edges. When talking about graph neural networks each node is represented by a vector of features. If the nodes do not have any features associated with them, we can generate generic feature vectors (vector of size 1 with value 1, or unit vectors of size n where n is the number of nodes).\n",
    "\n",
    "![](graph.png)\n",
    "\n",
    "Nodes and edges can have features. Node features are required for graph neural networks, while some implementations of the graph convolutions can also use the edge features:\n",
    "![](graph-features.png)\n",
    "\n",
    "The edge features can have different complexities:\n",
    "- binary: nodes are/are not connected\n",
    "- multiple edge types: each edge is assigned a type\n",
    "- single continuous value: each edge has a weight\n",
    "- feature vectors: each edge has a vector of features (this is the most complex)"
   ]
  },
  {
   "cell_type": "markdown",
   "metadata": {},
   "source": [
    "### Graph convolution\n",
    "The idea behind graph neural networks is that on each step a node gets some information from its neighbours. This way the node learns information about the local graph structure as well as the features of the nearby nodes.\n",
    "\n",
    "#### Performing a graph convolution operation\n",
    "**General process**:\n",
    "1. Take feature vectors of neighbours\n",
    "    - Defined by the adjacency matrix\n",
    "    - Can also include self loops\n",
    "2. Transform feature vectors\n",
    "    - Usually a single layer is used for transformation\n",
    "    - The weights for the transformation are shared between all nodes (that makes this operation a convolution)\n",
    "4. Aggregate feature vectors\n",
    "    - Aggregation function needs to be order invariant (the order of neighbours should not matter)\n",
    "    - The aggregation function can include attention mechanism to weight the neighbours\n",
    "    - The most common aggregation function is SUM with some normalization (based on the number of neighbours)\n",
    "5. Update\n",
    "    - Include the original feature vector\n",
    "    - Not strictly necessary (we can replace this step with self loops)\n",
    "\n",
    "![](aggregation.png)\n",
    "\n",
    "The end result of the graph convolutions is a graph where the feature vectors of the nodes are different. This is useful when our goal is to predict some characteristic of a node. In some cases we would like to predict characteristic of an entire graph.\n",
    "#### Graph classification\n",
    "When predicting graph level features our goal is to end up with a single vector that describes the entire graph. We achieve this by using pooling layers. The common pooling mechanisms are to compute the average or a maximum of the node vectors. In some cases we loose too much information by pooling over the entire graph. In these cases it might be useful to divide the nodes in a graph into multiple groups and do the pooling operation over each group separately. This way we end up with a smaller graph where we can repeat the pooling part until we get a single vector."
   ]
  },
  {
   "cell_type": "markdown",
   "metadata": {},
   "source": [
    "### Graph neural networks for NLP\n",
    "We can represent a text document as a graph. This way we can take advantage of a graph neural network to analyze the document. Depending on the application there are multiple ways to represent a document as a graph. In this tutorial we will compute a dependency tree and use the dependencies as the edges between the tokens.\n",
    "![](sentence-graph.png)"
   ]
  },
  {
   "cell_type": "markdown",
   "metadata": {},
   "source": [
    "For implementing the grpah neural networks we will be using PyTorch geometric library. This is a library built on top of the PyTorch library.\n",
    "PyTorch geometric requires the following libraries, to work properly:\n",
    "- torch-scatter\n",
    "- torch-sparse\n",
    "- torch-cluster\n",
    "- torch-geometric\n",
    "\n",
    "When using CUDA acceleration, make sure you are using a supported version (read more on [PyTorch Github](https://github.com/pyg-team/pytorch_geometric))"
   ]
  },
  {
   "cell_type": "code",
   "execution_count": null,
   "metadata": {
    "colab": {
     "base_uri": "https://localhost:8080/"
    },
    "id": "w01OfBvMnhTX",
    "outputId": "77ca5461-71c5-4a27-d63d-eb261806b32d",
    "pycharm": {
     "is_executing": true
    }
   },
   "outputs": [],
   "source": [
    "# Install the torch-geometric package \n",
    "\n",
    "# PIP\n",
    "#!pip install --no-cache-dir torch-scatter\n",
    "#!pip install --no-cache-dir torch-sparse\n",
    "#!pip install --no-cache-dir torch-cluster\n",
    "#!pip install torch-geometric\n",
    "\n",
    "# Conda\n",
    "!conda install pyg -c pyg"
   ]
  },
  {
   "cell_type": "code",
   "execution_count": 1,
   "metadata": {
    "pycharm": {
     "name": "#%%\n"
    }
   },
   "outputs": [],
   "source": [
    "from datetime import datetime\n",
    "import spacy\n",
    "import pandas\n",
    "import torch\n",
    "import torch.nn as nn\n",
    "import torch.nn.functional as F\n",
    "from torch.utils.tensorboard import SummaryWriter\n",
    "import numpy as np\n",
    "\n",
    "# torch geometric libraries\n",
    "from torch_geometric.loader import DataLoader\n",
    "from torch_geometric.data import Data\n",
    "import torch_geometric.nn as pyg_nn\n",
    "from torch_geometric.graphgym import optim\n",
    "import torch_geometric.utils as pyg_utils\n",
    "\n",
    "nlp = spacy.load(\"en_core_web_lg\")\n",
    "vector_size = 300  # the size of token vector representation s in en_core_web_lg model"
   ]
  },
  {
   "cell_type": "markdown",
   "metadata": {},
   "source": [
    "### Representing a document as a graph\n",
    "We will use the spacy library to split the document into tokens, compute token embeddings and to get the dependencies between tokens.\n",
    "\n",
    "The process of building a graph:\n",
    "- Split text into tokens\n",
    "- Tokens become nodes in a graph\n",
    "- Calculate embedding for each token\n",
    "- Use dependencies between tokens as edges"
   ]
  },
  {
   "cell_type": "code",
   "execution_count": 2,
   "metadata": {
    "pycharm": {
     "name": "#%%\n"
    }
   },
   "outputs": [
    {
     "name": "stdout",
     "output_type": "stream",
     "text": [
      "is -> Today\n",
      "is -> is\n",
      "day -> a\n",
      "sunny -> very\n",
      "day -> sunny\n",
      "is -> day\n",
      "is -> .\n"
     ]
    },
    {
     "data": {
      "text/html": [
       "<span class=\"tex2jax_ignore\"><svg xmlns=\"http://www.w3.org/2000/svg\" xmlns:xlink=\"http://www.w3.org/1999/xlink\" xml:lang=\"en\" id=\"735c0c53fbc64194b3dc51c308f8aa96-0\" class=\"displacy\" width=\"1100\" height=\"399.5\" direction=\"ltr\" style=\"max-width: none; height: 399.5px; color: #000000; background: #ffffff; font-family: Arial; direction: ltr\">\n",
       "<text class=\"displacy-token\" fill=\"currentColor\" text-anchor=\"middle\" y=\"309.5\">\n",
       "    <tspan class=\"displacy-word\" fill=\"currentColor\" x=\"50\">Today</tspan>\n",
       "    <tspan class=\"displacy-tag\" dy=\"2em\" fill=\"currentColor\" x=\"50\">NOUN</tspan>\n",
       "</text>\n",
       "\n",
       "<text class=\"displacy-token\" fill=\"currentColor\" text-anchor=\"middle\" y=\"309.5\">\n",
       "    <tspan class=\"displacy-word\" fill=\"currentColor\" x=\"225\">is</tspan>\n",
       "    <tspan class=\"displacy-tag\" dy=\"2em\" fill=\"currentColor\" x=\"225\">AUX</tspan>\n",
       "</text>\n",
       "\n",
       "<text class=\"displacy-token\" fill=\"currentColor\" text-anchor=\"middle\" y=\"309.5\">\n",
       "    <tspan class=\"displacy-word\" fill=\"currentColor\" x=\"400\">a</tspan>\n",
       "    <tspan class=\"displacy-tag\" dy=\"2em\" fill=\"currentColor\" x=\"400\">DET</tspan>\n",
       "</text>\n",
       "\n",
       "<text class=\"displacy-token\" fill=\"currentColor\" text-anchor=\"middle\" y=\"309.5\">\n",
       "    <tspan class=\"displacy-word\" fill=\"currentColor\" x=\"575\">very</tspan>\n",
       "    <tspan class=\"displacy-tag\" dy=\"2em\" fill=\"currentColor\" x=\"575\">ADV</tspan>\n",
       "</text>\n",
       "\n",
       "<text class=\"displacy-token\" fill=\"currentColor\" text-anchor=\"middle\" y=\"309.5\">\n",
       "    <tspan class=\"displacy-word\" fill=\"currentColor\" x=\"750\">sunny</tspan>\n",
       "    <tspan class=\"displacy-tag\" dy=\"2em\" fill=\"currentColor\" x=\"750\">ADJ</tspan>\n",
       "</text>\n",
       "\n",
       "<text class=\"displacy-token\" fill=\"currentColor\" text-anchor=\"middle\" y=\"309.5\">\n",
       "    <tspan class=\"displacy-word\" fill=\"currentColor\" x=\"925\">day.</tspan>\n",
       "    <tspan class=\"displacy-tag\" dy=\"2em\" fill=\"currentColor\" x=\"925\">NOUN</tspan>\n",
       "</text>\n",
       "\n",
       "<g class=\"displacy-arrow\">\n",
       "    <path class=\"displacy-arc\" id=\"arrow-735c0c53fbc64194b3dc51c308f8aa96-0-0\" stroke-width=\"2px\" d=\"M70,264.5 C70,177.0 215.0,177.0 215.0,264.5\" fill=\"none\" stroke=\"currentColor\"/>\n",
       "    <text dy=\"1.25em\" style=\"font-size: 0.8em; letter-spacing: 1px\">\n",
       "        <textPath xlink:href=\"#arrow-735c0c53fbc64194b3dc51c308f8aa96-0-0\" class=\"displacy-label\" startOffset=\"50%\" side=\"left\" fill=\"currentColor\" text-anchor=\"middle\">nsubj</textPath>\n",
       "    </text>\n",
       "    <path class=\"displacy-arrowhead\" d=\"M70,266.5 L62,254.5 78,254.5\" fill=\"currentColor\"/>\n",
       "</g>\n",
       "\n",
       "<g class=\"displacy-arrow\">\n",
       "    <path class=\"displacy-arc\" id=\"arrow-735c0c53fbc64194b3dc51c308f8aa96-0-1\" stroke-width=\"2px\" d=\"M420,264.5 C420,89.5 920.0,89.5 920.0,264.5\" fill=\"none\" stroke=\"currentColor\"/>\n",
       "    <text dy=\"1.25em\" style=\"font-size: 0.8em; letter-spacing: 1px\">\n",
       "        <textPath xlink:href=\"#arrow-735c0c53fbc64194b3dc51c308f8aa96-0-1\" class=\"displacy-label\" startOffset=\"50%\" side=\"left\" fill=\"currentColor\" text-anchor=\"middle\">det</textPath>\n",
       "    </text>\n",
       "    <path class=\"displacy-arrowhead\" d=\"M420,266.5 L412,254.5 428,254.5\" fill=\"currentColor\"/>\n",
       "</g>\n",
       "\n",
       "<g class=\"displacy-arrow\">\n",
       "    <path class=\"displacy-arc\" id=\"arrow-735c0c53fbc64194b3dc51c308f8aa96-0-2\" stroke-width=\"2px\" d=\"M595,264.5 C595,177.0 740.0,177.0 740.0,264.5\" fill=\"none\" stroke=\"currentColor\"/>\n",
       "    <text dy=\"1.25em\" style=\"font-size: 0.8em; letter-spacing: 1px\">\n",
       "        <textPath xlink:href=\"#arrow-735c0c53fbc64194b3dc51c308f8aa96-0-2\" class=\"displacy-label\" startOffset=\"50%\" side=\"left\" fill=\"currentColor\" text-anchor=\"middle\">advmod</textPath>\n",
       "    </text>\n",
       "    <path class=\"displacy-arrowhead\" d=\"M595,266.5 L587,254.5 603,254.5\" fill=\"currentColor\"/>\n",
       "</g>\n",
       "\n",
       "<g class=\"displacy-arrow\">\n",
       "    <path class=\"displacy-arc\" id=\"arrow-735c0c53fbc64194b3dc51c308f8aa96-0-3\" stroke-width=\"2px\" d=\"M770,264.5 C770,177.0 915.0,177.0 915.0,264.5\" fill=\"none\" stroke=\"currentColor\"/>\n",
       "    <text dy=\"1.25em\" style=\"font-size: 0.8em; letter-spacing: 1px\">\n",
       "        <textPath xlink:href=\"#arrow-735c0c53fbc64194b3dc51c308f8aa96-0-3\" class=\"displacy-label\" startOffset=\"50%\" side=\"left\" fill=\"currentColor\" text-anchor=\"middle\">amod</textPath>\n",
       "    </text>\n",
       "    <path class=\"displacy-arrowhead\" d=\"M770,266.5 L762,254.5 778,254.5\" fill=\"currentColor\"/>\n",
       "</g>\n",
       "\n",
       "<g class=\"displacy-arrow\">\n",
       "    <path class=\"displacy-arc\" id=\"arrow-735c0c53fbc64194b3dc51c308f8aa96-0-4\" stroke-width=\"2px\" d=\"M245,264.5 C245,2.0 925.0,2.0 925.0,264.5\" fill=\"none\" stroke=\"currentColor\"/>\n",
       "    <text dy=\"1.25em\" style=\"font-size: 0.8em; letter-spacing: 1px\">\n",
       "        <textPath xlink:href=\"#arrow-735c0c53fbc64194b3dc51c308f8aa96-0-4\" class=\"displacy-label\" startOffset=\"50%\" side=\"left\" fill=\"currentColor\" text-anchor=\"middle\">attr</textPath>\n",
       "    </text>\n",
       "    <path class=\"displacy-arrowhead\" d=\"M925.0,266.5 L933.0,254.5 917.0,254.5\" fill=\"currentColor\"/>\n",
       "</g>\n",
       "</svg></span>"
      ],
      "text/plain": [
       "<IPython.core.display.HTML object>"
      ]
     },
     "metadata": {},
     "output_type": "display_data"
    }
   ],
   "source": [
    "# Using spacy to get a dependency tree\n",
    "doc = nlp(\"Today is a very sunny day.\")\n",
    "for token in doc:\n",
    "    print(token.head, \"->\", token)\n",
    "spacy.displacy.render(doc, style='dep')"
   ]
  },
  {
   "cell_type": "markdown",
   "metadata": {},
   "source": [
    "### Obtaining token embeddings:\n",
    "In order to use graph neural networks effectively, we need some vectors that represent the nodes. In our case the nodes represent individual tokens, so we can use token embeddings to represent nodes. The quality of the embeddings has a large effect on the performance of the model. Spacy already provides a way to get token embeddings by using the **vector** attribute of the token class. The embeddings that we get depend on the language model that we use. We will use the vectors provided by the **en_core_web_lg** model. The model provides 300 dimensional vectors for 685k unique tokens. The vectors are computed using the word2vec algorithm."
   ]
  },
  {
   "cell_type": "code",
   "execution_count": 3,
   "metadata": {
    "pycharm": {
     "name": "#%%\n"
    }
   },
   "outputs": [
    {
     "name": "stdout",
     "output_type": "stream",
     "text": [
      "Today : 300\n",
      "is : 300\n",
      "a : 300\n",
      "very : 300\n",
      "sunny : 300\n",
      "day : 300\n",
      ". : 300\n"
     ]
    }
   ],
   "source": [
    "# Compute token embeddings\n",
    "for token in nlp(\"Today is a very sunny day.\"):\n",
    "    print(token, \":\", token.vector.size)"
   ]
  },
  {
   "cell_type": "markdown",
   "metadata": {},
   "source": [
    "Now let's create a function that accepts a text document and builds a syntax graph using the methods that we have seen.\n",
    "The graph will be presented using a torch geometric **Data** object which helps us with training the model. Mainly it provides an automatic way to batch multiple graphs together. The Data object contains some predefined attributes like x (node embeddings), edge_index (representation of graph edges) and y (graph or node target class). We can also define our own attributes. In this example we will use text attribute to store the original text of the document and the root_index attribute to store the index of the node in a graph representing the root of a sentence (the main verb)."
   ]
  },
  {
   "cell_type": "code",
   "execution_count": 4,
   "metadata": {
    "pycharm": {
     "name": "#%%\n"
    }
   },
   "outputs": [],
   "source": [
    "def text_to_graph(text, y):\n",
    "    edge_index = []  # list of all edges in a graph\n",
    "    doc = nlp(text)\n",
    "    root = 0\n",
    "    for token in doc:\n",
    "        edge_index.append([token.i, token.i])  # add a self loop\n",
    "        if token.i == token.head.i:\n",
    "            root = token.i\n",
    "        else:\n",
    "            edge_index.append([token.i, token.head.i])  # add a connection from token to its parent\n",
    "            edge_index.append([token.head.i, token.i])  # add a reverse connection\n",
    "    x = torch.tensor(np.array([d.vector for d in doc]))  # compute token embedings\n",
    "    edge_index = torch.tensor(edge_index, dtype=torch.long).t().contiguous()  # torch geometric expects to get the edges in a matrix with to rows and a column for each connection\n",
    "    data = Data(x=x, edge_index=edge_index, y=torch.tensor([y]), text=text, root_index=root)\n",
    "    return data"
   ]
  },
  {
   "cell_type": "code",
   "execution_count": 5,
   "metadata": {
    "pycharm": {
     "name": "#%%\n"
    }
   },
   "outputs": [
    {
     "data": {
      "image/png": "[encoded data removed]",
      "text/plain": [
       "<Figure size 432x288 with 1 Axes>"
      ]
     },
     "metadata": {},
     "output_type": "display_data"
    }
   ],
   "source": [
    "# visulise the graph\n",
    "import networkx as nx\n",
    "graph = text_to_graph(\"Today is a very sunny day.\", 0)\n",
    "g = pyg_utils.to_networkx(graph, to_undirected=True)\n",
    "nx.draw(g)"
   ]
  },
  {
   "cell_type": "markdown",
   "metadata": {},
   "source": [
    "### Sentiment analysis on yelp reviews:\n",
    "We will be using a modified version of the yelp reviews dataset. The modified version was created for paper [From Group to Individual Labels using Deep Features](http://www.datalab.uci.edu/papers/kdd2015_dimitris.pdf) and is availablek in [this github repository](https://github.com/microsoft/ML-Server-Python-Samples/blob/master/microsoftml/202/data/sentiment_analysis/yelp_labelled.txt). The dataset contains 1000 reviews that are marked as positive or negative. The classes in the dataset are balanced (we have 500 positive and 500 negative reviews)."
   ]
  },
  {
   "cell_type": "code",
   "execution_count": 6,
   "metadata": {
    "pycharm": {
     "name": "#%%\n"
    }
   },
   "outputs": [
    {
     "name": "stdout",
     "output_type": "stream",
     "text": [
      "                                                text  class\n",
      "0                           Wow... Loved this place.      1\n",
      "1                                 Crust is not good.      0\n",
      "2          Not tasty and the texture was just nasty.      0\n",
      "3  Stopped by during the late May bank holiday of...      1\n",
      "4  The selection on the menu was great and so wer...      1\n",
      "5     Now I am getting angry and I want my damn pho.      0\n",
      "6              Honeslty it didn't taste THAT fresh.)      0\n",
      "7  The potatoes were like rubber and you could te...      0\n",
      "8                          The fries were great too.      1\n",
      "9                                     A great touch.      1\n"
     ]
    }
   ],
   "source": [
    "# Read the data\n",
    "columns_name = ['text', 'class']\n",
    "data_yelp = pandas.read_csv('yelp_labelled.txt', sep='\\t', header=None)\n",
    "data_yelp.columns = columns_name\n",
    "print(data_yelp.head(10))"
   ]
  },
  {
   "cell_type": "code",
   "execution_count": 7,
   "metadata": {
    "colab": {
     "base_uri": "https://localhost:8080/",
     "height": 376
    },
    "id": "DR03ZqX0EJid",
    "outputId": "4d0ae8d2-09e0-467e-e271-d531f08c24e3"
   },
   "outputs": [],
   "source": [
    "# We use a standard pytorch dataset\n",
    "import random\n",
    "class Dataset(torch.utils.data.Dataset):\n",
    "    def __init__(self, df):\n",
    "        # the pandas dataframe on the input contains a column labeled 'text' with yelp review texts\n",
    "        # the column labeled 'class' contains a number representing the polarity of the review (positive / negative)\n",
    "        self.graphs = []\n",
    "        self.num_node_features = vector_size\n",
    "        self.num_classes = 2\n",
    "        for text, y in zip(df['text'], df['class']):\n",
    "            self.graphs.append(text_to_graph(text, y))\n",
    "        random.Random(1).shuffle(self.graphs)\n",
    "\n",
    "    def classes(self):\n",
    "        return self.labels\n",
    "\n",
    "    def __len__(self):\n",
    "        return len(self.graphs)\n",
    "\n",
    "    def __getitem__(self, idx):\n",
    "        return self.graphs[idx]"
   ]
  },
  {
   "cell_type": "code",
   "execution_count": 8,
   "metadata": {
    "pycharm": {
     "name": "#%%\n"
    }
   },
   "outputs": [
    {
     "name": "stdout",
     "output_type": "stream",
     "text": [
      "1000\n"
     ]
    }
   ],
   "source": [
    "# Construct the dataset.\n",
    "dataset = Dataset(data_yelp)\n",
    "print(len(dataset))"
   ]
  },
  {
   "cell_type": "code",
   "execution_count": 9,
   "metadata": {
    "pycharm": {
     "name": "#%%\n"
    }
   },
   "outputs": [
    {
     "name": "stdout",
     "output_type": "stream",
     "text": [
      "So flavorful and has just the perfect amount of heat.\n"
     ]
    },
    {
     "data": {
      "image/png": "[encoded data removed]",
      "text/plain": [
       "<Figure size 432x288 with 1 Axes>"
      ]
     },
     "metadata": {},
     "output_type": "display_data"
    }
   ],
   "source": [
    "# visualise the first document in a dataset\n",
    "graph = dataset[0]\n",
    "print(graph.text)\n",
    "g = pyg_utils.to_networkx(graph, to_undirected=True)\n",
    "nx.draw(g)"
   ]
  },
  {
   "cell_type": "markdown",
   "metadata": {},
   "source": [
    "### Creating the neural network\n",
    "**Graph convolutions**:\n",
    "There are many different implementations for computing graph convolutions implemented in PyTorch geometric library. We will take a look at the *GCNConv* layer since it is the most basic and simple to understand convolutional layer.\n",
    "**Initialization**: We provide the size of the node embeddings on the input and the size of node embeddings on the output.\n",
    "**Running**: GCNConv accepts a matrix representing node embeddings and the edge index matrix. It returns the matrix of new embeddings.\n",
    "\n",
    "Other types of convolutions can be found in the [PyTorch geometric documentation](https://pytorch-geometric.readthedocs.io/en/latest/modules/nn.html)\n",
    "Some more useful ones include:\n",
    "- **GCNConv** is the basic implementation of the layer that we described above.\n",
    "- **RGCNConv** supports multiple edge types. When using it we can provide additional argument called *edge_type* that holds a list of all edge types as integers.\n",
    "- **GINConv** convolution layer accepts a *nn* parameter that defines a module that is used to transform a node vector after the aggregation in the convolution step.\n",
    "- **GINEConv** is a modified version of GINConv. It adds support for edge features. It accepts the *edge_attr* parameter that defines the features for each edge in the *edge_index* matrix.\n",
    "- **GATConv** allows the use of attention when computing convolution operations."
   ]
  },
  {
   "cell_type": "code",
   "execution_count": 10,
   "metadata": {
    "pycharm": {
     "name": "#%%\n"
    }
   },
   "outputs": [
    {
     "name": "stdout",
     "output_type": "stream",
     "text": [
      "tensor([[ 0.0571, -0.3243, -0.6823,  0.2715,  0.0813],\n",
      "        [ 0.1641, -0.0633, -0.7897,  0.3538,  0.3257],\n",
      "        [ 0.0808, -0.0962, -0.5513,  0.2738,  0.3776],\n",
      "        [ 0.0581, -0.0112, -0.6144,  0.4025,  0.0605],\n",
      "        [-0.0783,  0.0136, -0.4758,  0.0856, -0.0839],\n",
      "        [ 0.1376, -0.0712, -0.3607,  0.1918,  0.1719],\n",
      "        [-0.1004, -0.6270, -0.1776,  0.5065, -0.0517],\n",
      "        [ 0.2107, -0.2743, -0.7426,  0.4422,  0.2423],\n",
      "        [-0.1302, -0.0342, -0.1082,  0.1528,  0.3383],\n",
      "        [-0.0680, -0.0197,  0.0011,  0.0979,  0.4880],\n",
      "        [ 0.1639,  0.2019, -0.3586,  0.3017,  0.1360]], grad_fn=<AddBackward0>)\n"
     ]
    }
   ],
   "source": [
    "# performing a graph convolution\n",
    "graph = dataset[0]\n",
    "\n",
    "input_dim = vector_size\n",
    "output_dim = 5\n",
    "convolution = pyg_nn.GCNConv(input_dim, output_dim)\n",
    "print(convolution(graph.x, graph.edge_index))"
   ]
  },
  {
   "cell_type": "markdown",
   "metadata": {},
   "source": [
    "#### Working with batches:\n",
    "One of the challenges that we commonly come across when working with graph neural networks is how to group nodes in batches to be computed in parallel. The **torch_geometric.loader.DataLoader** class helps us with this by grouping graphs together into a larger batch.\n",
    "The DataLoader class automatically transforms the node features (x) and the edge matrix (edge_index) to generate a larger graph made up of the original graphs in a batch. It also adds the *batch* attribute that records the batch that each node came from. The transformation applied to custom attributes depends on their name. By default, the result will be a list of values from all graphs. For example elements with the word *index* in their name will get automatically incremented.\n",
    "![](batching.png)"
   ]
  },
  {
   "cell_type": "code",
   "execution_count": 11,
   "metadata": {
    "pycharm": {
     "name": "#%%\n"
    }
   },
   "outputs": [
    {
     "name": "stdout",
     "output_type": "stream",
     "text": [
      "DataBatch(x=[218, 300], edge_index=[2, 616], y=[16], text=[16], root_index=[16], batch=[218], ptr=[17])\n",
      "tensor([ 0,  0,  0,  0,  0,  0,  0,  0,  0,  0,  0,  1,  1,  1,  1,  1,  1,  1,\n",
      "         1,  1,  1,  2,  2,  2,  2,  2,  2,  2,  2,  2,  2,  2,  2,  2,  2,  2,\n",
      "         3,  3,  3,  3,  3,  3,  3,  3,  3,  3,  3,  3,  3,  4,  4,  4,  4,  4,\n",
      "         4,  4,  4,  4,  4,  5,  5,  5,  5,  5,  5,  5,  5,  6,  6,  6,  6,  6,\n",
      "         6,  6,  6,  6,  7,  7,  7,  7,  7,  7,  8,  8,  8,  8,  8,  8,  8,  8,\n",
      "         8,  8,  9,  9,  9,  9,  9,  9,  9,  9,  9,  9,  9,  9,  9,  9,  9,  9,\n",
      "         9,  9,  9,  9,  9,  9,  9,  9,  9,  9,  9,  9,  9,  9,  9,  9, 10, 10,\n",
      "        10, 10, 10, 10, 10, 10, 10, 10, 10, 10, 10, 10, 10, 10, 10, 10, 10, 10,\n",
      "        11, 11, 11, 12, 12, 12, 12, 12, 12, 12, 12, 12, 12, 12, 13, 13, 13, 13,\n",
      "        13, 14, 14, 14, 14, 14, 14, 14, 14, 14, 14, 14, 14, 14, 14, 14, 14, 14,\n",
      "        14, 14, 14, 14, 14, 14, 14, 14, 14, 14, 14, 14, 14, 14, 14, 14, 15, 15,\n",
      "        15, 15, 15, 15, 15, 15, 15, 15, 15, 15, 15, 15, 15, 15, 15, 15, 15, 15,\n",
      "        15, 15])\n"
     ]
    }
   ],
   "source": [
    "dataloader = DataLoader(dataset, batch_size=16)\n",
    "batch = next(iter(dataloader))\n",
    "print(batch)\n",
    "print(batch.batch)"
   ]
  },
  {
   "cell_type": "markdown",
   "metadata": {},
   "source": [
    "#### Building the model\n",
    "We define the neural network architecture with teh following layers:\n",
    "- convolution 300 -> 16\n",
    "- layer normalization\n",
    "- convolution layer 16 -> 16\n",
    "- layer normalization\n",
    "- convolution layer 16 -> 16\n",
    "- pooling\n",
    "- linear 16 -> 16\n",
    "- dropout layer\n",
    "- linear 16 -> 2\n",
    "\n",
    "![](network.png)\n",
    "By using 3 graph convolutional layers, each node will contain information from nodes that are at most 3 steps away."
   ]
  },
  {
   "cell_type": "code",
   "execution_count": 12,
   "metadata": {
    "pycharm": {
     "name": "#%%\n"
    }
   },
   "outputs": [],
   "source": [
    "class GNNStack(nn.Module):\n",
    "    def __init__(self, input_dim, hidden_dim, output_dim, pooling_type='pooling', dropout=0.25):\n",
    "        super(GNNStack, self).__init__()\n",
    "        self.pooling_type = pooling_type\n",
    "        self.convs = nn.ModuleList()\n",
    "        self.convs.append(self.build_conv_model(input_dim, hidden_dim))\n",
    "        self.lns = nn.ModuleList()\n",
    "        for l in range(2):\n",
    "            self.lns.append(nn.LayerNorm(hidden_dim))\n",
    "            self.convs.append(self.build_conv_model(hidden_dim, hidden_dim))\n",
    "\n",
    "        # post-message-passing\n",
    "        self.post_mp = nn.Sequential(\n",
    "            nn.Linear(hidden_dim, hidden_dim), nn.Dropout(dropout),\n",
    "            nn.Linear(hidden_dim, output_dim))\n",
    "\n",
    "        self.dropout = dropout\n",
    "        self.num_layers = 3\n",
    "\n",
    "    def build_conv_model(self, input_dim, hidden_dim):\n",
    "        return pyg_nn.GCNConv(input_dim, hidden_dim)\n",
    "\n",
    "    def forward(self, data):\n",
    "        x, edge_index, batch, root = data.x, data.edge_index, data.batch, data.root_index\n",
    "        if data.num_node_features == 0:\n",
    "            x = torch.ones(data.num_nodes, 1)\n",
    "\n",
    "        for i in range(self.num_layers):\n",
    "            x = self.convs[i](x=x, edge_index=edge_index)\n",
    "            if not i == self.num_layers - 1:\n",
    "                x = self.lns[i](x)\n",
    "\n",
    "        if self.pooling_type == 'pooling':\n",
    "            x = pyg_nn.global_mean_pool(x, batch)\n",
    "        else:\n",
    "            x = x[root]\n",
    "\n",
    "        x = self.post_mp(x)\n",
    "\n",
    "        return F.log_softmax(x, dim=1)\n",
    "        # return F.softmax(x, dim=1)\n",
    "\n",
    "    def loss(self, pred, label):\n",
    "        return F.nll_loss(pred, label)\n",
    "        # return F.cross_entropy(pred, label)"
   ]
  },
  {
   "cell_type": "markdown",
   "metadata": {},
   "source": [
    "#### Training a model\n",
    "Training the graph neural network is largely the same as training any other pytorch network. We split the dataset into training and testing part. We will use Adam optimizer to optimize the weights in the network. Every 10 epochs we also test the preformance of the model on the test data."
   ]
  },
  {
   "cell_type": "code",
   "execution_count": 13,
   "metadata": {
    "id": "wlUUfohyyRgt"
   },
   "outputs": [],
   "source": [
    "def train(dataset, pooling_type, writer, dropout=0.25, weight_decay=0):\n",
    "    data_size = len(dataset)\n",
    "    loader = DataLoader(dataset[:int(data_size * 0.8)], batch_size=64, shuffle=True)\n",
    "    test_loader = DataLoader(dataset[int(data_size * 0.8):], batch_size=64, shuffle=True)\n",
    "\n",
    "    # build model\n",
    "    model = GNNStack(max(dataset.num_node_features, 1), 16, dataset.num_classes, pooling_type=pooling_type, dropout=dropout)\n",
    "    opt = optim.Adam(model.parameters(), lr=0.0001, weight_decay=weight_decay)\n",
    "\n",
    "    # train\n",
    "    for epoch in range(101):\n",
    "        total_loss = 0\n",
    "        model.train()\n",
    "        for batch in loader:\n",
    "            opt.zero_grad()\n",
    "            pred = model(batch)\n",
    "            label = batch.y\n",
    "            loss = model.loss(pred, label)\n",
    "            loss.backward()\n",
    "            opt.step()\n",
    "            total_loss += loss.item() * batch.num_graphs\n",
    "        total_loss /= len(loader.dataset)\n",
    "        writer.add_scalar(\"loss\", total_loss, epoch)\n",
    "\n",
    "        if epoch % 10 == 0:\n",
    "            test_acc, test_prec, test_rec, test_f1 = test(test_loader, model)\n",
    "            print(\"Epoch {}. Loss: {:.4f}. Test accuracy: {:.4f}\".format(\n",
    "                epoch, total_loss, test_acc))\n",
    "            writer.add_scalar(\"test accuracy\", test_acc, epoch)\n",
    "\n",
    "    return model"
   ]
  },
  {
   "cell_type": "code",
   "execution_count": 14,
   "metadata": {
    "pycharm": {
     "name": "#%%\n"
    }
   },
   "outputs": [],
   "source": [
    "from sklearn.metrics import f1_score, precision_score, recall_score, accuracy_score\n",
    "def test(loader, model, is_validation=False):\n",
    "    model.eval()\n",
    "    predictions = []\n",
    "    labels = []\n",
    "    with torch.no_grad():\n",
    "        for data in loader:\n",
    "            pred = model(data)\n",
    "            pred = pred.argmax(dim=1)\n",
    "            label = data.y\n",
    "            predictions += pred.tolist()\n",
    "            labels += label.tolist()\n",
    "\n",
    "    total = len(loader.dataset)\n",
    "    accuracy = accuracy_score(labels, predictions)\n",
    "    recall = recall_score(labels, predictions)\n",
    "    precision = precision_score(labels, predictions)\n",
    "    f1 = f1_score(labels, predictions)\n",
    "    return accuracy, precision, recall, f1"
   ]
  },
  {
   "cell_type": "markdown",
   "metadata": {},
   "source": [
    "#### Getting a single embedding for the entire graph\n",
    "If we want to perform classification over the entire sentence and not just one word, we have to somehow aggregate the information captured in all token embeddings. The more general approach for getting information about the entire graph is to use pooling. In our example we use mean pooling, which simpli computes the mean of all token embeddings.\n",
    "On the other hand we can take advantage of the fact that our graphs are shaped like trees, so we can use the root node to aggregate the information from all nodes in a graph. In this case we will get the sentence embedding by taking the embedding of the root word."
   ]
  },
  {
   "cell_type": "code",
   "execution_count": 15,
   "metadata": {
    "pycharm": {
     "name": "#%%\n"
    }
   },
   "outputs": [
    {
     "name": "stdout",
     "output_type": "stream",
     "text": [
      "Epoch 0. Loss: 0.7043. Test accuracy: 0.4650\n",
      "Epoch 10. Loss: 0.6633. Test accuracy: 0.7100\n",
      "Epoch 20. Loss: 0.5205. Test accuracy: 0.8300\n",
      "Epoch 30. Loss: 0.3907. Test accuracy: 0.8400\n",
      "Epoch 40. Loss: 0.3347. Test accuracy: 0.8200\n",
      "Epoch 50. Loss: 0.2988. Test accuracy: 0.8350\n",
      "Epoch 60. Loss: 0.2712. Test accuracy: 0.8400\n",
      "Epoch 70. Loss: 0.2422. Test accuracy: 0.8350\n",
      "Epoch 80. Loss: 0.2232. Test accuracy: 0.8300\n",
      "Epoch 90. Loss: 0.2126. Test accuracy: 0.8450\n",
      "Epoch 100. Loss: 0.1935. Test accuracy: 0.8450\n"
     ]
    }
   ],
   "source": [
    "writer = SummaryWriter(\"./log/\" + datetime.now().strftime(\"%Y%m%d-%H%M%S\"))\n",
    "# classification_type = 'root'\n",
    "classification_type = 'pooling'\n",
    "model = train(dataset, classification_type, writer, dropout=0.25, weight_decay=0.001)"
   ]
  },
  {
   "cell_type": "markdown",
   "metadata": {},
   "source": [
    "#### Testing the model\n",
    "We expect to achieve an accuracy between 83% and 85%, which is comparable to the results presented in the paper where the dataset was developed. Their proposed method achieved an accuracy of 88%."
   ]
  },
  {
   "cell_type": "code",
   "execution_count": 16,
   "metadata": {
    "pycharm": {
     "name": "#%%\n"
    }
   },
   "outputs": [
    {
     "name": "stdout",
     "output_type": "stream",
     "text": [
      "Accuracy: 0.84\n",
      "Precision: 0.86\n",
      "Recall: 0.85\n",
      "F1: 0.85\n"
     ]
    }
   ],
   "source": [
    "test_acc, test_prec, test_rec, test_f1 = test(DataLoader(dataset[int(len(dataset) * 0.8):], batch_size=64, shuffle=True), model, is_validation=True)\n",
    "print(\"Accuracy: {:.2f}\\n\"\n",
    "      \"Precision: {:.2f}\\n\"\n",
    "      \"Recall: {:.2f}\\n\"\n",
    "      \"F1: {:.2f}\".format(test_acc, test_prec, test_rec, test_f1))"
   ]
  },
  {
   "cell_type": "code",
   "execution_count": 17,
   "metadata": {
    "pycharm": {
     "name": "#%%\n"
    }
   },
   "outputs": [
    {
     "data": {
      "text/plain": [
       "'rnn_torchviz.png'"
      ]
     },
     "execution_count": 17,
     "metadata": {},
     "output_type": "execute_result"
    }
   ],
   "source": [
    "# Visualising the network\n",
    "from torchviz import make_dot\n",
    "res = model(dataset[0])\n",
    "make_dot(res, params=dict(list(model.named_parameters()))).render(\"rnn_torchviz\", format=\"png\")"
   ]
  },
  {
   "cell_type": "markdown",
   "metadata": {
    "pycharm": {
     "name": "#%% md\n"
    }
   },
   "source": [
    "Further reading:\n",
    "- Using a graph neural network for classification of temporal relations between events: [Event Temporal Relation Extraction with Attention Mechanism and Graph Neural Network](https://ieeexplore.ieee.org/stamp/stamp.jsp?arnumber=9515702)\n",
    "- Graph neural networks tutorial by Stanford University: [Jupyter notebook](https://colab.research.google.com/drive/1DIQm9rOx2mT1bZETEeVUThxcrP1RKqAn)"
   ]
  }
 ],
 "metadata": {
  "accelerator": "GPU",
  "colab": {
   "collapsed_sections": [],
   "name": "GNN NLP.ipynb",
   "provenance": []
  },
  "kernelspec": {
   "display_name": "Python [conda env:nlp-course-fri]",
   "language": "python",
   "name": "conda-env-nlp-course-fri-py"
  },
  "language_info": {
   "codemirror_mode": {
    "name": "ipython",
    "version": 3
   },
   "file_extension": ".py",
   "mimetype": "text/x-python",
   "name": "python",
   "nbconvert_exporter": "python",
   "pygments_lexer": "ipython3",
   "version": "3.6.10"
  }
 },
 "nbformat": 4,
 "nbformat_minor": 4
}
