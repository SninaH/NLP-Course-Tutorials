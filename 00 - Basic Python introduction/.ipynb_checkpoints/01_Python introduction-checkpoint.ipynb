{
 "cells": [
  {
   "cell_type": "markdown",
   "metadata": {},
   "source": [
    "# Introduction to Python for Natural Language Processing\n",
    "\n",
    "<sup>This notebook is a part of Natural Language Processing class at the University of Ljubljana, Faculty for computer and information science. Please contact [slavko.zitnik@fri.uni-lj.si](mailto:slavko.zitnik@fri.uni-lj.si) for any comments.</sub>\n",
    "\n",
    "**Anaconda installation**\n",
    "\n",
    "Conda environment management:\n",
    "\n",
    "```\n",
    "conda create -n onj python=3.6\n",
    "source activate onj\n",
    "conda install nb_conda\n",
    "    jupyter notebook \n",
    "source deactivate\n",
    "```\n",
    "\n",
    "Show existing environments:\n",
    "\n",
    "```\n",
    "conda info --envs\n",
    "```\n",
    "\n",
    "Activate your environment and install the following dependencies:\n",
    "\n",
    "```\n",
    "conda install -c anaconda scikit-learn\n",
    "conda install nltk\n",
    "conda install matplotlib\n",
    "```\n",
    "\n",
    "**Pure Python 3.5 installation**\n",
    "\n",
    "We are going to use Python 3, so first check, what is the default python interpreter on your machine. Go to console and run `python` (there may be more interpreters installed on machine and Python 3.5 might be run also using `python3.5`).\n",
    "\n",
    "You should see output similar to the following: \n",
    "```\n",
    "quaternion:~ slavkoz$ python3.5\n",
    "Python 3.5.2 (v3.5.2:4def2a2901a5, Jun 26 2016, 10:47:25)\n",
    "[GCC 4.2.1 (Apple Inc. build 5666) (dot 3)] on darwin\n",
    "Type \"help\", \"copyright\", \"credits\" or \"license\" for more information.\n",
    ">>>\n",
    "```\n",
    "\n",
    "If you can run only Python 2.x, then install [Python 3.5](https://www.python.org/) ([download](https://www.python.org/downloads/)) *(if you have more interpreters installed at a time, be sure to use the right commands - python3.5, pip3.5, or command links accordingly)*\n",
    "\n",
    "Now let's install [NLTK](http://www.nltk.org/) ([installation guide](http://www.nltk.org/install.html)) and [Numpy](http://www.numpy.org/) libraries:\n",
    "\n",
    "```\n",
    "sudo pip3.5 install -U nltk\n",
    "sudo pip3.5 install -U numpy\n",
    "```\n",
    "\n",
    "Then install [SciPy](https://www.scipy.org/) ([installation guide](https://www.scipy.org/install.html)). I propose installation from an appropriate wheel ([wheel list](https://pypi.python.org/pypi/scipy)):\n",
    "\n",
    "```\n",
    "sudo pip3.5 install YOUR_DOWNLOADED_PACKAGE.whl\n",
    "```\n",
    "\n",
    "Install also the following:\n",
    "\n",
    "* [Jupyter](http://jupyter.org/) ([installation guide](https://jupyter.readthedocs.io/en/latest/install.html]))\n",
    "* [Scikit-learn](http://scikit-learn.org/stable/) ([installation guide](http://scikit-learn.org/stable/install.html))\n",
    "* [Matplotlib](http://matplotlib.org/) ([installation guide](http://matplotlib.org/users/installing.html))\n",
    "\n",
    "\n",
    "Now test whether your library was sucessfully installed (no error should be shown to you): "
   ]
  },
  {
   "cell_type": "code",
   "execution_count": null,
   "metadata": {},
   "outputs": [],
   "source": [
    "import sklearn\n",
    "import nltk\n",
    "import matplotlib"
   ]
  },
  {
   "cell_type": "markdown",
   "metadata": {},
   "source": [
    "Let's download all the corpora from the NLTK library. Run the command below and then select appropriate options in a window that will open."
   ]
  },
  {
   "cell_type": "code",
   "execution_count": null,
   "metadata": {},
   "outputs": [],
   "source": [
    "nltk.download() # run once to download additional NLTK resources"
   ]
  },
  {
   "cell_type": "markdown",
   "metadata": {},
   "source": [
    "## Short introduction to Python\n",
    "\n",
    "For more check the [official documentation](https://docs.python.org/3/) for Python 3.6, browse for online tutorials or just try to start coding.\n",
    "\n",
    "### Basics\n",
    "\n",
    "Let's first say hello:"
   ]
  },
  {
   "cell_type": "code",
   "execution_count": null,
   "metadata": {},
   "outputs": [],
   "source": [
    "print(\"Hello text!\")"
   ]
  },
  {
   "cell_type": "markdown",
   "metadata": {},
   "source": [
    "Now try some arithmetic operations:"
   ]
  },
  {
   "cell_type": "code",
   "execution_count": null,
   "metadata": {},
   "outputs": [],
   "source": [
    "1+1"
   ]
  },
  {
   "cell_type": "code",
   "execution_count": null,
   "metadata": {},
   "outputs": [],
   "source": [
    "a = 1 + 3\n",
    "a"
   ]
  },
  {
   "cell_type": "code",
   "execution_count": null,
   "metadata": {},
   "outputs": [],
   "source": [
    "\"5\" * 5"
   ]
  },
  {
   "cell_type": "code",
   "execution_count": null,
   "metadata": {},
   "outputs": [],
   "source": [
    "\"5\" + 5"
   ]
  },
  {
   "cell_type": "markdown",
   "metadata": {},
   "source": [
    "Number operations."
   ]
  },
  {
   "cell_type": "code",
   "execution_count": null,
   "metadata": {},
   "outputs": [],
   "source": [
    "5 / 2 - 1"
   ]
  },
  {
   "cell_type": "code",
   "execution_count": null,
   "metadata": {},
   "outputs": [],
   "source": [
    "number = 6/7\n",
    "number"
   ]
  },
  {
   "cell_type": "code",
   "execution_count": null,
   "metadata": {},
   "outputs": [],
   "source": [
    "round(number, 2)"
   ]
  },
  {
   "cell_type": "code",
   "execution_count": null,
   "metadata": {
    "scrolled": true
   },
   "outputs": [],
   "source": [
    "\"{:5.2}\".format(number)"
   ]
  },
  {
   "cell_type": "markdown",
   "metadata": {},
   "source": [
    "### Strings\n",
    "\n",
    "We will work with strings a lot. Remember that a string behaves similar to list as it is a list of characters."
   ]
  },
  {
   "cell_type": "code",
   "execution_count": null,
   "metadata": {},
   "outputs": [],
   "source": [
    "# Now let's start to play with strings\n",
    "willy = \"William Shakespeare was an English poet, playwright, and actor\" \n",
    "willy"
   ]
  },
  {
   "cell_type": "code",
   "execution_count": null,
   "metadata": {},
   "outputs": [],
   "source": [
    "\"The last word is: '\" + willy[-5:] + \"'\""
   ]
  },
  {
   "cell_type": "markdown",
   "metadata": {},
   "source": [
    "How could you print the first word only?"
   ]
  },
  {
   "cell_type": "code",
   "execution_count": null,
   "metadata": {},
   "outputs": [],
   "source": [
    "willy[0:7]"
   ]
  },
  {
   "cell_type": "code",
   "execution_count": null,
   "metadata": {},
   "outputs": [],
   "source": [
    "willy.find('poet') #finds position of substring within string"
   ]
  },
  {
   "cell_type": "markdown",
   "metadata": {},
   "source": [
    "Character-level operations."
   ]
  },
  {
   "cell_type": "code",
   "execution_count": null,
   "metadata": {},
   "outputs": [],
   "source": [
    "willy[0:7].upper() +' and '+ willy[8:19].lower() # turn to upper or lower case."
   ]
  },
  {
   "cell_type": "code",
   "execution_count": null,
   "metadata": {},
   "outputs": [],
   "source": [
    "willy[0:7].replace(\"li\", \"j\") # replace a substring 'li' in the string with 'j'. "
   ]
  },
  {
   "cell_type": "markdown",
   "metadata": {},
   "source": [
    "Importing a string module."
   ]
  },
  {
   "cell_type": "code",
   "execution_count": null,
   "metadata": {},
   "outputs": [],
   "source": [
    "import string"
   ]
  },
  {
   "cell_type": "code",
   "execution_count": null,
   "metadata": {},
   "outputs": [],
   "source": [
    "\"?\" in string.punctuation"
   ]
  },
  {
   "cell_type": "markdown",
   "metadata": {},
   "source": [
    "What is a *string.punctuation*?"
   ]
  },
  {
   "cell_type": "code",
   "execution_count": null,
   "metadata": {},
   "outputs": [],
   "source": [
    "print(string.punctuation)"
   ]
  },
  {
   "cell_type": "markdown",
   "metadata": {},
   "source": [
    "### Lists"
   ]
  },
  {
   "cell_type": "code",
   "execution_count": null,
   "metadata": {},
   "outputs": [],
   "source": [
    "list = [1,2,\"3\"]\n",
    "list"
   ]
  },
  {
   "cell_type": "markdown",
   "metadata": {},
   "source": [
    "Inline for loop."
   ]
  },
  {
   "cell_type": "code",
   "execution_count": null,
   "metadata": {},
   "outputs": [],
   "source": [
    "multiplied = [item * 2 for item in list]\n",
    "multiplied"
   ]
  },
  {
   "cell_type": "markdown",
   "metadata": {},
   "source": [
    "For loop with a filter."
   ]
  },
  {
   "cell_type": "code",
   "execution_count": null,
   "metadata": {},
   "outputs": [],
   "source": [
    "multiplied_filtered = [item for item in list if int(item) < 3]\n",
    "multiplied_filtered"
   ]
  },
  {
   "cell_type": "markdown",
   "metadata": {},
   "source": [
    "Basic list operations."
   ]
  },
  {
   "cell_type": "code",
   "execution_count": null,
   "metadata": {},
   "outputs": [],
   "source": [
    "words = willy.split(\" \")\n",
    "words"
   ]
  },
  {
   "cell_type": "code",
   "execution_count": null,
   "metadata": {},
   "outputs": [],
   "source": [
    "len(words) # length of the list"
   ]
  },
  {
   "cell_type": "markdown",
   "metadata": {
    "collapsed": true
   },
   "source": [
    "Get the last word from the list:"
   ]
  },
  {
   "cell_type": "code",
   "execution_count": null,
   "metadata": {},
   "outputs": [],
   "source": [
    "words[len(words)-1]"
   ]
  },
  {
   "cell_type": "code",
   "execution_count": null,
   "metadata": {},
   "outputs": [],
   "source": [
    "words.append(\".\")\n",
    "words"
   ]
  },
  {
   "cell_type": "code",
   "execution_count": null,
   "metadata": {},
   "outputs": [],
   "source": [
    "sorted(words)"
   ]
  },
  {
   "cell_type": "code",
   "execution_count": null,
   "metadata": {},
   "outputs": [],
   "source": [
    "\" \".join(words)"
   ]
  },
  {
   "cell_type": "markdown",
   "metadata": {},
   "source": [
    "Why is comma together with the word but dot separated from the last word?"
   ]
  },
  {
   "cell_type": "markdown",
   "metadata": {},
   "source": [
    "Standalone for loop."
   ]
  },
  {
   "cell_type": "code",
   "execution_count": null,
   "metadata": {
    "scrolled": true
   },
   "outputs": [],
   "source": [
    "for i, word in enumerate(words):\n",
    "    if len(word) <= 3:\n",
    "        print(\"Short word '{1:3}' is at index {0}.\".format(i, word))"
   ]
  },
  {
   "cell_type": "markdown",
   "metadata": {
    "collapsed": true
   },
   "source": [
    "## Using the NLTK library\n",
    "\n",
    "In this part we will show some basic operations on text using the NLTK library. First we need to import the needed libraries."
   ]
  },
  {
   "cell_type": "code",
   "execution_count": null,
   "metadata": {},
   "outputs": [],
   "source": [
    "import nltk\n",
    "import string"
   ]
  },
  {
   "cell_type": "markdown",
   "metadata": {},
   "source": [
    "The function below will read a text file into string, do some operations on it and return a list of tokens. Why is better to use `nltk.word_tokenize()` method instead of `string.split()` method?"
   ]
  },
  {
   "cell_type": "code",
   "execution_count": null,
   "metadata": {},
   "outputs": [],
   "source": [
    "def getTokens():\n",
    "   with open('shakespeare.txt', 'r') as shakes:\n",
    "    text = shakes.read().lower()\n",
    "    \n",
    "    # remove punctuation\n",
    "    table = text.maketrans({key: None for key in string.punctuation})\n",
    "    text = text.translate(table)  \n",
    "    \n",
    "    tokens = nltk.word_tokenize(text)\n",
    "    return tokens"
   ]
  },
  {
   "cell_type": "markdown",
   "metadata": {},
   "source": [
    "We are first interested in number of times each word appears. For that we use `FreqDist` class."
   ]
  },
  {
   "cell_type": "code",
   "execution_count": null,
   "metadata": {},
   "outputs": [],
   "source": [
    "from nltk import FreqDist\n",
    "\n",
    "tokens = getTokens()\n",
    "freq = FreqDist(tokens)\n",
    "freq"
   ]
  },
  {
   "cell_type": "markdown",
   "metadata": {},
   "source": [
    "Keys of the dictionary are tokens and values are numbers of occurences of a key in the text. To get a list of tuples of type `(key, value)`, use `.items()` method."
   ]
  },
  {
   "cell_type": "code",
   "execution_count": null,
   "metadata": {},
   "outputs": [],
   "source": [
    "freq.keys()"
   ]
  },
  {
   "cell_type": "markdown",
   "metadata": {},
   "source": [
    "Hapaxes sre tokens that appear once in the text, let's see the first 20:"
   ]
  },
  {
   "cell_type": "code",
   "execution_count": null,
   "metadata": {},
   "outputs": [],
   "source": [
    "freq.hapaxes()[:20]"
   ]
  },
  {
   "cell_type": "code",
   "execution_count": null,
   "metadata": {},
   "outputs": [],
   "source": [
    "sorted(freq.items(), key = lambda x: x[1], reverse = True)[:10]"
   ]
  },
  {
   "cell_type": "markdown",
   "metadata": {},
   "source": [
    "The frequency of the most commonly used words in the text:"
   ]
  },
  {
   "cell_type": "code",
   "execution_count": null,
   "metadata": {},
   "outputs": [],
   "source": [
    "%matplotlib inline\n",
    "freq.plot(30) # frequencies of top 30 commonly used words"
   ]
  },
  {
   "cell_type": "markdown",
   "metadata": {},
   "source": [
    "Stopwords removal"
   ]
  },
  {
   "cell_type": "code",
   "execution_count": null,
   "metadata": {
    "scrolled": false
   },
   "outputs": [],
   "source": [
    "from nltk.corpus import stopwords\n",
    "\n",
    "stopwords.words('english')"
   ]
  },
  {
   "cell_type": "markdown",
   "metadata": {},
   "source": [
    "Update the method `getTokens` above to delete all the stopwords from the text. How many tokens are returned by the method after that? Do also the results of the above code change?"
   ]
  },
  {
   "cell_type": "code",
   "execution_count": null,
   "metadata": {},
   "outputs": [],
   "source": [
    "# TODO: get the number of tokens without stopwords"
   ]
  },
  {
   "cell_type": "markdown",
   "metadata": {},
   "source": [
    "What is the longest word in the text?"
   ]
  },
  {
   "cell_type": "code",
   "execution_count": null,
   "metadata": {},
   "outputs": [],
   "source": [
    "# TODO: find the longest word from the text"
   ]
  },
  {
   "cell_type": "markdown",
   "metadata": {
    "collapsed": true
   },
   "source": [
    "## Importing your own text\n",
    "\n",
    "Above, we have seen how to retrieve text from a local file. To retrieve text from the user input:"
   ]
  },
  {
   "cell_type": "code",
   "execution_count": null,
   "metadata": {},
   "outputs": [],
   "source": [
    "text = input(\"Enter some text to the terminal: \")"
   ]
  },
  {
   "cell_type": "code",
   "execution_count": null,
   "metadata": {},
   "outputs": [],
   "source": [
    "print(\"The text you entered: '{}'\".format(text))"
   ]
  },
  {
   "cell_type": "markdown",
   "metadata": {},
   "source": [
    "Retrieving text from online sources:"
   ]
  },
  {
   "cell_type": "code",
   "execution_count": null,
   "metadata": {},
   "outputs": [],
   "source": [
    "import nltk\n",
    "from urllib.request import urlopen"
   ]
  },
  {
   "cell_type": "code",
   "execution_count": null,
   "metadata": {},
   "outputs": [],
   "source": [
    "url = \"http://shakespeare.mit.edu/hamlet/full.html\"\n",
    "html = urlopen(url).read() \n",
    "html[:600]"
   ]
  },
  {
   "cell_type": "markdown",
   "metadata": {},
   "source": [
    "As you might see above, a lot of html tags are around the text that we would like to process. To remove HTML (or find some specific data within a HTML documen), we use a [BeautifulSoup](https://www.crummy.com/software/BeautifulSoup/) library ([documentation](https://www.crummy.com/software/BeautifulSoup/bs4/doc/))."
   ]
  },
  {
   "cell_type": "code",
   "execution_count": null,
   "metadata": {},
   "outputs": [],
   "source": [
    "from bs4 import BeautifulSoup"
   ]
  },
  {
   "cell_type": "code",
   "execution_count": null,
   "metadata": {},
   "outputs": [],
   "source": [
    "soup = BeautifulSoup(html, 'html.parser')\n",
    "text = soup.get_text()\n",
    "text[:600]"
   ]
  },
  {
   "cell_type": "markdown",
   "metadata": {},
   "source": [
    "Is there a difference if you print the value of *text[:600]*?"
   ]
  },
  {
   "cell_type": "code",
   "execution_count": null,
   "metadata": {},
   "outputs": [],
   "source": [
    "# TODO: print the value of text[:600] and observe the difference to the output above"
   ]
  },
  {
   "cell_type": "markdown",
   "metadata": {
    "collapsed": true
   },
   "source": [
    "## Exercise\n",
    "\n",
    "We now know about the basics of text processing with Python 3.6 and NLTK 3.0. To validate your proficiency, perform the following:\n",
    "\n",
    "* Retrieve data from an online source (e.g.: books from [http://www.fullbooks.com](http://www.fullbooks.com), [http://www.readanybook.com](http://www.readanybook.com) or posts from [http://www.rtvslo.si/](http://www.rtvslo.si/)).\n",
    "* Process the data and report on results. Use the techniques we mentioned above, check the tools' documentation for additional techniques and use your imagination ..."
   ]
  }
 ],
 "metadata": {
  "kernelspec": {
   "display_name": "Python [conda env:onj]",
   "language": "python",
   "name": "conda-env-onj-py"
  },
  "language_info": {
   "codemirror_mode": {
    "name": "ipython",
    "version": 3
   },
   "file_extension": ".py",
   "mimetype": "text/x-python",
   "name": "python",
   "nbconvert_exporter": "python",
   "pygments_lexer": "ipython3",
   "version": "3.6.6"
  }
 },
 "nbformat": 4,
 "nbformat_minor": 1
}
